{
 "cells": [
  {
   "cell_type": "code",
   "execution_count": 1,
   "metadata": {
    "collapsed": true
   },
   "outputs": [],
   "source": [
    "from pyspark.sql import SQLContext\n",
    "\n",
    "sqlContext = SQLContext(sc)\n",
    "bt = sqlContext.read.format(\"org.apache.spark.sql.cassandra\").load(table=\"bt_sensors\", keyspace=\"dice\")"
   ]
  },
  {
   "cell_type": "code",
   "execution_count": 2,
   "metadata": {
    "collapsed": false
   },
   "outputs": [],
   "source": [
    "from pyspark.sql.functions import udf\n",
    "from pyspark.sql.types import IntegerType, DateType\n",
    "\n",
    "timestampTokens = udf(lambda a, b: a + (b - a)/2, DateType())\n",
    "bt = bt.withColumn('timestamp', timestampTokens(bt.timestampfrom, bt.timestampto))\n",
    "hourTokens = udf(lambda time: time.hour, IntegerType())\n",
    "bt = bt.withColumn('hour', hourTokens(bt.timestamp))\n",
    "minuteTokens = udf(lambda time: time.minute, IntegerType())\n",
    "bt = bt.withColumn('minute', minuteTokens(bt.timestamp))\n",
    "weekTokens = udf(lambda time: time.weekday(), IntegerType())\n",
    "bt = bt.withColumn('weekday', weekTokens(bt.timestamp))"
   ]
  },
  {
   "cell_type": "code",
   "execution_count": 74,
   "metadata": {
    "collapsed": true
   },
   "outputs": [],
   "source": [
    "bt_hourly = bt.groupBy('frombtid', 'tobtid', 'hour').agg({\"avgspeed\": \"mean\", 'count':'mean'})"
   ]
  },
  {
   "cell_type": "code",
   "execution_count": 77,
   "metadata": {
    "collapsed": false
   },
   "outputs": [
    {
     "data": {
      "text/plain": [
       "[Row(frombtid=u'BTR0207', tobtid=u'BTR0204', hour=14, avg(count)=18.53846153846154, avg(avgspeed)=14.159915337195763),\n",
       " Row(frombtid=u'BTR0207', tobtid=u'BTR0204', hour=13, avg(count)=14.153846153846153, avg(avgspeed)=15.002568061535175),\n",
       " Row(frombtid=u'BTR0207', tobtid=u'BTR0204', hour=10, avg(count)=10.083333333333334, avg(avgspeed)=20.18646256128947),\n",
       " Row(frombtid=u'BTR0207', tobtid=u'BTR0204', hour=15, avg(count)=15.38888888888889, avg(avgspeed)=20.244712670644123),\n",
       " Row(frombtid=u'BTR0207', tobtid=u'BTR0204', hour=6, avg(count)=12.384615384615385, avg(avgspeed)=20.269143471351036),\n",
       " Row(frombtid=u'BTR0204', tobtid=u'BTR0207', hour=14, avg(count)=22.615384615384617, avg(avgspeed)=20.727346640366775),\n",
       " Row(frombtid=u'BTR0207', tobtid=u'BTR0204', hour=8, avg(count)=12.25, avg(avgspeed)=21.02135866880417),\n",
       " Row(frombtid=u'BTR0202', tobtid=u'BTR0201', hour=5, avg(count)=12.11111111111111, avg(avgspeed)=21.2668399810791),\n",
       " Row(frombtid=u'BTR0204', tobtid=u'BTR0207', hour=13, avg(count)=19.923076923076923, avg(avgspeed)=21.28652972441453),\n",
       " Row(frombtid=u'BTR0205', tobtid=u'BTR0206', hour=15, avg(count)=11.444444444444445, avg(avgspeed)=21.498968866136337),\n",
       " Row(frombtid=u'BTR0207', tobtid=u'BTR0204', hour=11, avg(count)=11.727272727272727, avg(avgspeed)=21.883529489690606),\n",
       " Row(frombtid=u'BTR0201', tobtid=u'BTR0207', hour=13, avg(count)=10.384615384615385, avg(avgspeed)=21.980926807110126),\n",
       " Row(frombtid=u'BTR0204', tobtid=u'BTR0207', hour=17, avg(count)=23.333333333333332, avg(avgspeed)=22.141743024190266),\n",
       " Row(frombtid=u'BTR0207', tobtid=u'BTR0204', hour=12, avg(count)=10.76923076923077, avg(avgspeed)=22.23440118936392),\n",
       " Row(frombtid=u'BTR0207', tobtid=u'BTR0204', hour=7, avg(count)=11.928571428571429, avg(avgspeed)=22.403231893266952),\n",
       " Row(frombtid=u'BTR0207', tobtid=u'BTR0204', hour=9, avg(count)=11.833333333333334, avg(avgspeed)=22.68085527420044),\n",
       " Row(frombtid=u'BTR0207', tobtid=u'BTR0204', hour=16, avg(count)=13.153846153846153, avg(avgspeed)=22.98367397601788),\n",
       " Row(frombtid=u'BTR0202', tobtid=u'BTR0201', hour=6, avg(count)=12.23076923076923, avg(avgspeed)=23.168138944185696),\n",
       " Row(frombtid=u'BTR0207', tobtid=u'BTR0204', hour=17, avg(count)=12.533333333333333, avg(avgspeed)=23.31604372660319),\n",
       " Row(frombtid=u'BTR0204', tobtid=u'BTR0207', hour=10, avg(count)=19.5, avg(avgspeed)=23.848753134409588),\n",
       " Row(frombtid=u'BTR0201', tobtid=u'BTR0207', hour=14, avg(count)=13.692307692307692, avg(avgspeed)=24.024896695063664),\n",
       " Row(frombtid=u'BTR0210', tobtid=u'BTR0204', hour=5, avg(count)=10.166666666666666, avg(avgspeed)=24.141516579522026),\n",
       " Row(frombtid=u'BTR0204', tobtid=u'BTR0207', hour=18, avg(count)=16.214285714285715, avg(avgspeed)=24.46877840587071),\n",
       " Row(frombtid=u'BTR0207', tobtid=u'BTR0204', hour=18, avg(count)=10.714285714285714, avg(avgspeed)=24.603898184640066),\n",
       " Row(frombtid=u'BTR0204', tobtid=u'BTR0207', hour=16, avg(count)=24.384615384615383, avg(avgspeed)=24.81641204540546),\n",
       " Row(frombtid=u'BTR0205', tobtid=u'BTR0206', hour=8, avg(count)=10.0625, avg(avgspeed)=24.844518542289734),\n",
       " Row(frombtid=u'BTR0210', tobtid=u'BTR0204', hour=7, avg(count)=13.142857142857142, avg(avgspeed)=25.17433759144374),\n",
       " Row(frombtid=u'BTR0204', tobtid=u'BTR0207', hour=15, avg(count)=23.38888888888889, avg(avgspeed)=25.177715407477486),\n",
       " Row(frombtid=u'BTR0210', tobtid=u'BTR0204', hour=6, avg(count)=11.923076923076923, avg(avgspeed)=25.368120413560135),\n",
       " Row(frombtid=u'BTR0207', tobtid=u'BTR0204', hour=5, avg(count)=10.777777777777779, avg(avgspeed)=25.385705788930256),\n",
       " Row(frombtid=u'BTR0204', tobtid=u'BTR0207', hour=8, avg(count)=21.1875, avg(avgspeed)=25.50435733795166),\n",
       " Row(frombtid=u'BTR0204', tobtid=u'BTR0207', hour=6, avg(count)=23.23076923076923, avg(avgspeed)=25.537626853355995),\n",
       " Row(frombtid=u'BTR0204', tobtid=u'BTR0207', hour=5, avg(count)=22.0, avg(avgspeed)=25.56866873635186),\n",
       " Row(frombtid=u'BTR0204', tobtid=u'BTR0207', hour=12, avg(count)=21.46153846153846, avg(avgspeed)=25.690131994394157),\n",
       " Row(frombtid=u'BTR0201', tobtid=u'BTR0207', hour=8, avg(count)=11.4375, avg(avgspeed)=26.126537919044495),\n",
       " Row(frombtid=u'BTR0204', tobtid=u'BTR0205', hour=14, avg(count)=23.923076923076923, avg(avgspeed)=26.149018434377815),\n",
       " Row(frombtid=u'BTR0210', tobtid=u'BTR0204', hour=15, avg(count)=12.944444444444445, avg(avgspeed)=26.561769485473633),\n",
       " Row(frombtid=u'BTR0210', tobtid=u'BTR0204', hour=13, avg(count)=11.538461538461538, avg(avgspeed)=26.57490348815918),\n",
       " Row(frombtid=u'BTR0211', tobtid=u'BTR0210', hour=6, avg(count)=12.0, avg(avgspeed)=26.60694067294781),\n",
       " Row(frombtid=u'BTR0204', tobtid=u'BTR0207', hour=7, avg(count)=23.071428571428573, avg(avgspeed)=26.71264103480748),\n",
       " Row(frombtid=u'BTR0210', tobtid=u'BTR0204', hour=14, avg(count)=12.76923076923077, avg(avgspeed)=26.837662036602314),\n",
       " Row(frombtid=u'BTR0204', tobtid=u'BTR0210', hour=13, avg(count)=14.307692307692308, avg(avgspeed)=26.90112906235915),\n",
       " Row(frombtid=u'BTR0204', tobtid=u'BTR0210', hour=14, avg(count)=14.307692307692308, avg(avgspeed)=27.192472898043118),\n",
       " Row(frombtid=u'BTR0204', tobtid=u'BTR0207', hour=20, avg(count)=11.727272727272727, avg(avgspeed)=27.230234839699484),\n",
       " Row(frombtid=u'BTR0201', tobtid=u'BTR0207', hour=15, avg(count)=11.0, avg(avgspeed)=27.23195966084798),\n",
       " Row(frombtid=u'BTR0204', tobtid=u'BTR0207', hour=11, avg(count)=20.0, avg(avgspeed)=27.57554990595037),\n",
       " Row(frombtid=u'BTR0204', tobtid=u'BTR0207', hour=19, avg(count)=13.642857142857142, avg(avgspeed)=27.661890166146414),\n",
       " Row(frombtid=u'BTR0210', tobtid=u'BTR0204', hour=8, avg(count)=10.75, avg(avgspeed)=27.709414958953857),\n",
       " Row(frombtid=u'BTR0203', tobtid=u'BTR0202', hour=5, avg(count)=16.666666666666668, avg(avgspeed)=27.91584889094035),\n",
       " Row(frombtid=u'BTR0204', tobtid=u'BTR0207', hour=9, avg(count)=18.333333333333332, avg(avgspeed)=27.92689100901286),\n",
       " Row(frombtid=u'BTR0203', tobtid=u'BTR0202', hour=14, avg(count)=11.615384615384615, avg(avgspeed)=28.20275541452261),\n",
       " Row(frombtid=u'BTR0204', tobtid=u'BTR0205', hour=13, avg(count)=28.307692307692307, avg(avgspeed)=28.79152356661283),\n",
       " Row(frombtid=u'BTR0202', tobtid=u'BTR0203', hour=13, avg(count)=12.538461538461538, avg(avgspeed)=29.280159363379845),\n",
       " Row(frombtid=u'BTR0201', tobtid=u'BTR0207', hour=9, avg(count)=10.416666666666666, avg(avgspeed)=29.40982945760091),\n",
       " Row(frombtid=u'BTR0202', tobtid=u'BTR0203', hour=14, avg(count)=11.076923076923077, avg(avgspeed)=29.47789815755991),\n",
       " Row(frombtid=u'BTR0212', tobtid=u'BTR0202', hour=14, avg(count)=14.461538461538462, avg(avgspeed)=29.548613181480995),\n",
       " Row(frombtid=u'BTR0210', tobtid=u'BTR0204', hour=9, avg(count)=12.416666666666666, avg(avgspeed)=29.969267050425213),\n",
       " Row(frombtid=u'BTR0203', tobtid=u'BTR0202', hour=17, avg(count)=10.2, avg(avgspeed)=30.26541608174642),\n",
       " Row(frombtid=u'BTR0201', tobtid=u'BTR0202', hour=13, avg(count)=10.076923076923077, avg(avgspeed)=30.269120803246132),\n",
       " Row(frombtid=u'BTR0210', tobtid=u'BTR0204', hour=11, avg(count)=10.727272727272727, avg(avgspeed)=30.372851631858133),\n",
       " Row(frombtid=u'BTR0205', tobtid=u'BTR0214', hour=13, avg(count)=12.23076923076923, avg(avgspeed)=30.520799930279072),\n",
       " Row(frombtid=u'BTR0210', tobtid=u'BTR0204', hour=4, avg(count)=11.588235294117647, avg(avgspeed)=30.54536471647375),\n",
       " Row(frombtid=u'BTR0211', tobtid=u'BTR0210', hour=14, avg(count)=16.692307692307693, avg(avgspeed)=30.778427344102127),\n",
       " Row(frombtid=u'BTR0203', tobtid=u'BTR0202', hour=13, avg(count)=13.76923076923077, avg(avgspeed)=31.182845775897686),\n",
       " Row(frombtid=u'BTR0204', tobtid=u'BTR0210', hour=15, avg(count)=13.5, avg(avgspeed)=31.226780043707954),\n",
       " Row(frombtid=u'BTR0212', tobtid=u'BTR0202', hour=6, avg(count)=12.23076923076923, avg(avgspeed)=31.33538524921124),\n",
       " Row(frombtid=u'BTR0204', tobtid=u'BTR0207', hour=4, avg(count)=17.58823529411765, avg(avgspeed)=31.358601514030905),\n",
       " Row(frombtid=u'BTR0205', tobtid=u'BTR0214', hour=14, avg(count)=12.307692307692308, avg(avgspeed)=31.678136825561523),\n",
       " Row(frombtid=u'BTR0203', tobtid=u'BTR0202', hour=6, avg(count)=13.76923076923077, avg(avgspeed)=31.68524536719689),\n",
       " Row(frombtid=u'BTR0210', tobtid=u'BTR0204', hour=17, avg(count)=11.6, avg(avgspeed)=31.95227877298991),\n",
       " Row(frombtid=u'BTR0212', tobtid=u'BTR0202', hour=13, avg(count)=16.23076923076923, avg(avgspeed)=31.984653619619515),\n",
       " Row(frombtid=u'BTR0202', tobtid=u'BTR0212', hour=13, avg(count)=20.692307692307693, avg(avgspeed)=32.06706017714281),\n",
       " Row(frombtid=u'BTR0205', tobtid=u'BTR0204', hour=13, avg(count)=12.76923076923077, avg(avgspeed)=32.602554027850815),\n",
       " Row(frombtid=u'BTR0210', tobtid=u'BTR0204', hour=10, avg(count)=10.833333333333334, avg(avgspeed)=32.706334273020424),\n",
       " Row(frombtid=u'BTR0204', tobtid=u'BTR0205', hour=15, avg(count)=23.38888888888889, avg(avgspeed)=32.79610008663602),\n",
       " Row(frombtid=u'BTR0202', tobtid=u'BTR0212', hour=14, avg(count)=20.53846153846154, avg(avgspeed)=32.96370227520283),\n",
       " Row(frombtid=u'BTR0212', tobtid=u'BTR0202', hour=15, avg(count)=12.166666666666666, avg(avgspeed)=33.12532827589247),\n",
       " Row(frombtid=u'BTR0202', tobtid=u'BTR0212', hour=16, avg(count)=11.23076923076923, avg(avgspeed)=33.65933022132287),\n",
       " Row(frombtid=u'BTR0212', tobtid=u'BTR0202', hour=7, avg(count)=12.357142857142858, avg(avgspeed)=33.67257908412388),\n",
       " Row(frombtid=u'BTR0212', tobtid=u'BTR0202', hour=5, avg(count)=11.833333333333334, avg(avgspeed)=33.755977948506676),\n",
       " Row(frombtid=u'BTR0212', tobtid=u'BTR0202', hour=17, avg(count)=10.133333333333333, avg(avgspeed)=34.28551483154297),\n",
       " Row(frombtid=u'BTR0204', tobtid=u'BTR0210', hour=9, avg(count)=13.583333333333334, avg(avgspeed)=34.54639037450155),\n",
       " Row(frombtid=u'BTR0204', tobtid=u'BTR0210', hour=17, avg(count)=11.533333333333333, avg(avgspeed)=34.632916641235354),\n",
       " Row(frombtid=u'BTR0202', tobtid=u'BTR0212', hour=15, avg(count)=14.555555555555555, avg(avgspeed)=34.854759004380966),\n",
       " Row(frombtid=u'BTR0205', tobtid=u'BTR0204', hour=17, avg(count)=10.266666666666667, avg(avgspeed)=34.925183614095054),\n",
       " Row(frombtid=u'BTR0212', tobtid=u'BTR0202', hour=16, avg(count)=11.538461538461538, avg(avgspeed)=35.06551082317646),\n",
       " Row(frombtid=u'BTR0204', tobtid=u'BTR0205', hour=12, avg(count)=19.615384615384617, avg(avgspeed)=35.158451080322266),\n",
       " Row(frombtid=u'BTR0211', tobtid=u'BTR0210', hour=13, avg(count)=14.461538461538462, avg(avgspeed)=35.248078492971565),\n",
       " Row(frombtid=u'BTR0204', tobtid=u'BTR0210', hour=16, avg(count)=10.692307692307692, avg(avgspeed)=35.438768240121696),\n",
       " Row(frombtid=u'BTR0202', tobtid=u'BTR0212', hour=9, avg(count)=14.25, avg(avgspeed)=35.52426687876383),\n",
       " Row(frombtid=u'BTR0202', tobtid=u'BTR0212', hour=5, avg(count)=13.055555555555555, avg(avgspeed)=35.56007703145345),\n",
       " Row(frombtid=u'BTR0212', tobtid=u'BTR0202', hour=8, avg(count)=10.6875, avg(avgspeed)=35.86016345024109),\n",
       " Row(frombtid=u'BTR0202', tobtid=u'BTR0212', hour=17, avg(count)=10.6, avg(avgspeed)=36.037082036336265),\n",
       " Row(frombtid=u'BTR0202', tobtid=u'BTR0212', hour=7, avg(count)=13.142857142857142, avg(avgspeed)=36.06352383749826),\n",
       " Row(frombtid=u'BTR0204', tobtid=u'BTR0205', hour=16, avg(count)=17.384615384615383, avg(avgspeed)=36.127830211932846),\n",
       " Row(frombtid=u'BTR0211', tobtid=u'BTR0210', hour=15, avg(count)=16.72222222222222, avg(avgspeed)=36.13148864110311),\n",
       " Row(frombtid=u'BTR0202', tobtid=u'BTR0212', hour=10, avg(count)=11.166666666666666, avg(avgspeed)=36.246908028920494),\n",
       " Row(frombtid=u'BTR0212', tobtid=u'BTR0202', hour=10, avg(count)=10.916666666666666, avg(avgspeed)=36.46783256530762),\n",
       " Row(frombtid=u'BTR0204', tobtid=u'BTR0205', hour=10, avg(count)=18.75, avg(avgspeed)=36.51222085952759),\n",
       " Row(frombtid=u'BTR0204', tobtid=u'BTR0205', hour=7, avg(count)=20.428571428571427, avg(avgspeed)=36.51473603929792),\n",
       " Row(frombtid=u'BTR0202', tobtid=u'BTR0212', hour=8, avg(count)=11.3125, avg(avgspeed)=36.549293994903564),\n",
       " Row(frombtid=u'BTR0211', tobtid=u'BTR0210', hour=7, avg(count)=17.142857142857142, avg(avgspeed)=36.60112271990095),\n",
       " Row(frombtid=u'BTR0204', tobtid=u'BTR0205', hour=17, avg(count)=17.933333333333334, avg(avgspeed)=36.61950492858887),\n",
       " Row(frombtid=u'BTR0202', tobtid=u'BTR0212', hour=6, avg(count)=13.384615384615385, avg(avgspeed)=36.68325468210074),\n",
       " Row(frombtid=u'BTR0204', tobtid=u'BTR0210', hour=7, avg(count)=11.5, avg(avgspeed)=36.69986357007708),\n",
       " Row(frombtid=u'BTR0210', tobtid=u'BTR0211', hour=14, avg(count)=30.923076923076923, avg(avgspeed)=36.86134323706994),\n",
       " Row(frombtid=u'BTR0204', tobtid=u'BTR0210', hour=10, avg(count)=11.583333333333334, avg(avgspeed)=36.86341683069865),\n",
       " Row(frombtid=u'BTR0204', tobtid=u'BTR0210', hour=8, avg(count)=11.5625, avg(avgspeed)=36.87951362133026),\n",
       " Row(frombtid=u'BTR0204', tobtid=u'BTR0210', hour=12, avg(count)=11.923076923076923, avg(avgspeed)=36.91730748690092),\n",
       " Row(frombtid=u'BTR0212', tobtid=u'BTR0202', hour=11, avg(count)=10.363636363636363, avg(avgspeed)=37.00312666459517),\n",
       " Row(frombtid=u'BTR0204', tobtid=u'BTR0205', hour=9, avg(count)=18.666666666666668, avg(avgspeed)=37.12088998158773),\n",
       " Row(frombtid=u'BTR0204', tobtid=u'BTR0210', hour=6, avg(count)=10.384615384615385, avg(avgspeed)=37.53395638099084),\n",
       " Row(frombtid=u'BTR0202', tobtid=u'BTR0212', hour=11, avg(count)=12.909090909090908, avg(avgspeed)=37.58939205516469),\n",
       " Row(frombtid=u'BTR0204', tobtid=u'BTR0205', hour=8, avg(count)=20.25, avg(avgspeed)=37.87894034385681),\n",
       " Row(frombtid=u'BTR0204', tobtid=u'BTR0205', hour=5, avg(count)=18.72222222222222, avg(avgspeed)=38.30691168043349),\n",
       " Row(frombtid=u'BTR0203', tobtid=u'BTR0202', hour=8, avg(count)=11.25, avg(avgspeed)=38.32992947101593),\n",
       " Row(frombtid=u'BTR0202', tobtid=u'BTR0212', hour=12, avg(count)=14.846153846153847, avg(avgspeed)=38.476633952214165),\n",
       " Row(frombtid=u'BTR0204', tobtid=u'BTR0205', hour=11, avg(count)=16.636363636363637, avg(avgspeed)=38.484519091519445),\n",
       " Row(frombtid=u'BTR0204', tobtid=u'BTR0205', hour=6, avg(count)=21.384615384615383, avg(avgspeed)=38.64683532714844),\n",
       " Row(frombtid=u'BTR0210', tobtid=u'BTR0211', hour=15, avg(count)=29.72222222222222, avg(avgspeed)=38.703540590074326),\n",
       " Row(frombtid=u'BTR0203', tobtid=u'BTR0202', hour=7, avg(count)=12.928571428571429, avg(avgspeed)=38.812727383204866),\n",
       " Row(frombtid=u'BTR0204', tobtid=u'BTR0205', hour=18, avg(count)=14.642857142857142, avg(avgspeed)=39.41811534336635),\n",
       " Row(frombtid=u'BTR0210', tobtid=u'BTR0211', hour=12, avg(count)=29.615384615384617, avg(avgspeed)=39.49714557941143),\n",
       " Row(frombtid=u'BTR0210', tobtid=u'BTR0211', hour=13, avg(count)=30.615384615384617, avg(avgspeed)=39.67545949495756),\n",
       " Row(frombtid=u'BTR0204', tobtid=u'BTR0205', hour=19, avg(count)=10.642857142857142, avg(avgspeed)=40.01280920846121),\n",
       " Row(frombtid=u'BTR0203', tobtid=u'BTR0202', hour=4, avg(count)=11.764705882352942, avg(avgspeed)=40.09347837111529),\n",
       " Row(frombtid=u'BTR0211', tobtid=u'BTR0210', hour=16, avg(count)=11.538461538461538, avg(avgspeed)=40.61547880906325),\n",
       " Row(frombtid=u'BTR0204', tobtid=u'BTR0205', hour=4, avg(count)=10.705882352941176, avg(avgspeed)=40.67004192576689),\n",
       " Row(frombtid=u'BTR0211', tobtid=u'BTR0210', hour=9, avg(count)=14.5, avg(avgspeed)=40.8413790067037),\n",
       " Row(frombtid=u'BTR0211', tobtid=u'BTR0210', hour=10, avg(count)=13.916666666666666, avg(avgspeed)=41.8140811920166),\n",
       " Row(frombtid=u'BTR0211', tobtid=u'BTR0210', hour=12, avg(count)=11.692307692307692, avg(avgspeed)=42.10689485990084),\n",
       " Row(frombtid=u'BTR0210', tobtid=u'BTR0211', hour=16, avg(count)=24.0, avg(avgspeed)=42.19988573514498),\n",
       " Row(frombtid=u'BTR0210', tobtid=u'BTR0211', hour=11, avg(count)=23.181818181818183, avg(avgspeed)=42.226926283402875),\n",
       " Row(frombtid=u'BTR0210', tobtid=u'BTR0211', hour=17, avg(count)=23.533333333333335, avg(avgspeed)=42.300069936116536),\n",
       " Row(frombtid=u'BTR0210', tobtid=u'BTR0211', hour=10, avg(count)=24.166666666666668, avg(avgspeed)=42.52770137786865),\n",
       " Row(frombtid=u'BTR0211', tobtid=u'BTR0210', hour=8, avg(count)=12.8125, avg(avgspeed)=42.67681050300598),\n",
       " Row(frombtid=u'BTR0211', tobtid=u'BTR0210', hour=4, avg(count)=11.588235294117647, avg(avgspeed)=42.70158352571375),\n",
       " Row(frombtid=u'BTR0210', tobtid=u'BTR0211', hour=9, avg(count)=26.25, avg(avgspeed)=43.04930400848389),\n",
       " Row(frombtid=u'BTR0211', tobtid=u'BTR0210', hour=11, avg(count)=11.909090909090908, avg(avgspeed)=43.246586539528586),\n",
       " Row(frombtid=u'BTR0211', tobtid=u'BTR0210', hour=17, avg(count)=13.133333333333333, avg(avgspeed)=43.3129524230957),\n",
       " Row(frombtid=u'BTR0210', tobtid=u'BTR0211', hour=18, avg(count)=17.285714285714285, avg(avgspeed)=43.6764030456543),\n",
       " Row(frombtid=u'BTR0210', tobtid=u'BTR0211', hour=8, avg(count)=24.5, avg(avgspeed)=43.72329092025757),\n",
       " Row(frombtid=u'BTR0210', tobtid=u'BTR0211', hour=6, avg(count)=21.615384615384617, avg(avgspeed)=44.63531142014723),\n",
       " Row(frombtid=u'BTR0210', tobtid=u'BTR0211', hour=5, avg(count)=19.11111111111111, avg(avgspeed)=45.08036592271593),\n",
       " Row(frombtid=u'BTR0210', tobtid=u'BTR0211', hour=7, avg(count)=22.071428571428573, avg(avgspeed)=45.10085024152483),\n",
       " Row(frombtid=u'BTR0210', tobtid=u'BTR0211', hour=19, avg(count)=11.357142857142858, avg(avgspeed)=47.084777559552876),\n",
       " Row(frombtid=u'BTR0210', tobtid=u'BTR0211', hour=4, avg(count)=12.588235294117647, avg(avgspeed)=50.074998294605926)]"
      ]
     },
     "execution_count": 77,
     "metadata": {},
     "output_type": "execute_result"
    }
   ],
   "source": [
    "sorted(bt_hourly.where('avg(count) > 10').collect(), key=lambda x: x['avg(avgspeed)'])"
   ]
  },
  {
   "cell_type": "code",
   "execution_count": 3,
   "metadata": {
    "collapsed": true
   },
   "outputs": [],
   "source": [
    "bt = bt.where('count > 10')"
   ]
  },
  {
   "cell_type": "code",
   "execution_count": 24,
   "metadata": {
    "collapsed": false
   },
   "outputs": [],
   "source": [
    "from pyspark.ml.feature import RFormula\n",
    "\n",
    "formula = RFormula(formula=\"avgspeed ~ frombtid + tobtid + frombtid : tobtid + hour + weekday + hour : weekday\")\n",
    "data = formula.fit(bt).transform(bt)\n",
    "data = data.select('avgspeed', 'features')"
   ]
  },
  {
   "cell_type": "code",
   "execution_count": 25,
   "metadata": {
    "collapsed": true
   },
   "outputs": [],
   "source": [
    "train, test = data.randomSplit([0.7, 0.3], 1234)"
   ]
  },
  {
   "cell_type": "code",
   "execution_count": 26,
   "metadata": {
    "collapsed": false
   },
   "outputs": [
    {
     "ename": "Py4JJavaError",
     "evalue": "An error occurred while calling o537.fit.\n: java.lang.AssertionError: assertion failed: lapack.dppsv returned 23.\n\tat scala.Predef$.assert(Predef.scala:170)\n\tat org.apache.spark.mllib.linalg.CholeskyDecomposition$.solve(CholeskyDecomposition.scala:40)\n\tat org.apache.spark.ml.optim.WeightedLeastSquares.fit(WeightedLeastSquares.scala:140)\n\tat org.apache.spark.ml.regression.LinearRegression.train(LinearRegression.scala:180)\n\tat org.apache.spark.ml.regression.LinearRegression.train(LinearRegression.scala:70)\n\tat org.apache.spark.ml.Predictor.fit(Predictor.scala:90)\n\tat sun.reflect.NativeMethodAccessorImpl.invoke0(Native Method)\n\tat sun.reflect.NativeMethodAccessorImpl.invoke(NativeMethodAccessorImpl.java:62)\n\tat sun.reflect.DelegatingMethodAccessorImpl.invoke(DelegatingMethodAccessorImpl.java:43)\n\tat java.lang.reflect.Method.invoke(Method.java:498)\n\tat py4j.reflection.MethodInvoker.invoke(MethodInvoker.java:237)\n\tat py4j.reflection.ReflectionEngine.invoke(ReflectionEngine.java:357)\n\tat py4j.Gateway.invoke(Gateway.java:280)\n\tat py4j.commands.AbstractCommand.invokeMethod(AbstractCommand.java:132)\n\tat py4j.commands.CallCommand.execute(CallCommand.java:79)\n\tat py4j.GatewayConnection.run(GatewayConnection.java:214)\n\tat java.lang.Thread.run(Thread.java:745)\n",
     "traceback": [
      "\u001b[1;31m---------------------------------------------------------------------------\u001b[0m",
      "\u001b[1;31mPy4JJavaError\u001b[0m                             Traceback (most recent call last)",
      "\u001b[1;32m<ipython-input-26-4f9e05775790>\u001b[0m in \u001b[0;36m<module>\u001b[1;34m()\u001b[0m\n\u001b[0;32m      3\u001b[0m \u001b[1;33m\u001b[0m\u001b[0m\n\u001b[0;32m      4\u001b[0m \u001b[0mlr\u001b[0m \u001b[1;33m=\u001b[0m \u001b[0mLinearRegression\u001b[0m\u001b[1;33m(\u001b[0m\u001b[0mlabelCol\u001b[0m\u001b[1;33m=\u001b[0m\u001b[1;34m'avgspeed'\u001b[0m\u001b[1;33m)\u001b[0m\u001b[1;33m\u001b[0m\u001b[0m\n\u001b[1;32m----> 5\u001b[1;33m \u001b[0mmodel\u001b[0m \u001b[1;33m=\u001b[0m \u001b[0mlr\u001b[0m\u001b[1;33m.\u001b[0m\u001b[0mfit\u001b[0m\u001b[1;33m(\u001b[0m\u001b[0mtrain\u001b[0m\u001b[1;33m)\u001b[0m \u001b[1;31m#rmse=0.921361\u001b[0m\u001b[1;33m\u001b[0m\u001b[0m\n\u001b[0m",
      "\u001b[1;32m/usr/share/spark-2.0/python/pyspark/ml/base.py\u001b[0m in \u001b[0;36mfit\u001b[1;34m(self, dataset, params)\u001b[0m\n\u001b[0;32m     62\u001b[0m                 \u001b[1;32mreturn\u001b[0m \u001b[0mself\u001b[0m\u001b[1;33m.\u001b[0m\u001b[0mcopy\u001b[0m\u001b[1;33m(\u001b[0m\u001b[0mparams\u001b[0m\u001b[1;33m)\u001b[0m\u001b[1;33m.\u001b[0m\u001b[0m_fit\u001b[0m\u001b[1;33m(\u001b[0m\u001b[0mdataset\u001b[0m\u001b[1;33m)\u001b[0m\u001b[1;33m\u001b[0m\u001b[0m\n\u001b[0;32m     63\u001b[0m             \u001b[1;32melse\u001b[0m\u001b[1;33m:\u001b[0m\u001b[1;33m\u001b[0m\u001b[0m\n\u001b[1;32m---> 64\u001b[1;33m                 \u001b[1;32mreturn\u001b[0m \u001b[0mself\u001b[0m\u001b[1;33m.\u001b[0m\u001b[0m_fit\u001b[0m\u001b[1;33m(\u001b[0m\u001b[0mdataset\u001b[0m\u001b[1;33m)\u001b[0m\u001b[1;33m\u001b[0m\u001b[0m\n\u001b[0m\u001b[0;32m     65\u001b[0m         \u001b[1;32melse\u001b[0m\u001b[1;33m:\u001b[0m\u001b[1;33m\u001b[0m\u001b[0m\n\u001b[0;32m     66\u001b[0m             raise ValueError(\"Params must be either a param map or a list/tuple of param maps, \"\n",
      "\u001b[1;32m/usr/share/spark-2.0/python/pyspark/ml/wrapper.py\u001b[0m in \u001b[0;36m_fit\u001b[1;34m(self, dataset)\u001b[0m\n\u001b[0;32m    211\u001b[0m \u001b[1;33m\u001b[0m\u001b[0m\n\u001b[0;32m    212\u001b[0m     \u001b[1;32mdef\u001b[0m \u001b[0m_fit\u001b[0m\u001b[1;33m(\u001b[0m\u001b[0mself\u001b[0m\u001b[1;33m,\u001b[0m \u001b[0mdataset\u001b[0m\u001b[1;33m)\u001b[0m\u001b[1;33m:\u001b[0m\u001b[1;33m\u001b[0m\u001b[0m\n\u001b[1;32m--> 213\u001b[1;33m         \u001b[0mjava_model\u001b[0m \u001b[1;33m=\u001b[0m \u001b[0mself\u001b[0m\u001b[1;33m.\u001b[0m\u001b[0m_fit_java\u001b[0m\u001b[1;33m(\u001b[0m\u001b[0mdataset\u001b[0m\u001b[1;33m)\u001b[0m\u001b[1;33m\u001b[0m\u001b[0m\n\u001b[0m\u001b[0;32m    214\u001b[0m         \u001b[1;32mreturn\u001b[0m \u001b[0mself\u001b[0m\u001b[1;33m.\u001b[0m\u001b[0m_create_model\u001b[0m\u001b[1;33m(\u001b[0m\u001b[0mjava_model\u001b[0m\u001b[1;33m)\u001b[0m\u001b[1;33m\u001b[0m\u001b[0m\n\u001b[0;32m    215\u001b[0m \u001b[1;33m\u001b[0m\u001b[0m\n",
      "\u001b[1;32m/usr/share/spark-2.0/python/pyspark/ml/wrapper.py\u001b[0m in \u001b[0;36m_fit_java\u001b[1;34m(self, dataset)\u001b[0m\n\u001b[0;32m    208\u001b[0m         \"\"\"\n\u001b[0;32m    209\u001b[0m         \u001b[0mself\u001b[0m\u001b[1;33m.\u001b[0m\u001b[0m_transfer_params_to_java\u001b[0m\u001b[1;33m(\u001b[0m\u001b[1;33m)\u001b[0m\u001b[1;33m\u001b[0m\u001b[0m\n\u001b[1;32m--> 210\u001b[1;33m         \u001b[1;32mreturn\u001b[0m \u001b[0mself\u001b[0m\u001b[1;33m.\u001b[0m\u001b[0m_java_obj\u001b[0m\u001b[1;33m.\u001b[0m\u001b[0mfit\u001b[0m\u001b[1;33m(\u001b[0m\u001b[0mdataset\u001b[0m\u001b[1;33m.\u001b[0m\u001b[0m_jdf\u001b[0m\u001b[1;33m)\u001b[0m\u001b[1;33m\u001b[0m\u001b[0m\n\u001b[0m\u001b[0;32m    211\u001b[0m \u001b[1;33m\u001b[0m\u001b[0m\n\u001b[0;32m    212\u001b[0m     \u001b[1;32mdef\u001b[0m \u001b[0m_fit\u001b[0m\u001b[1;33m(\u001b[0m\u001b[0mself\u001b[0m\u001b[1;33m,\u001b[0m \u001b[0mdataset\u001b[0m\u001b[1;33m)\u001b[0m\u001b[1;33m:\u001b[0m\u001b[1;33m\u001b[0m\u001b[0m\n",
      "\u001b[1;32m/usr/share/spark-2.0/python/lib/py4j-0.10.3-src.zip/py4j/java_gateway.py\u001b[0m in \u001b[0;36m__call__\u001b[1;34m(self, *args)\u001b[0m\n\u001b[0;32m   1131\u001b[0m         \u001b[0manswer\u001b[0m \u001b[1;33m=\u001b[0m \u001b[0mself\u001b[0m\u001b[1;33m.\u001b[0m\u001b[0mgateway_client\u001b[0m\u001b[1;33m.\u001b[0m\u001b[0msend_command\u001b[0m\u001b[1;33m(\u001b[0m\u001b[0mcommand\u001b[0m\u001b[1;33m)\u001b[0m\u001b[1;33m\u001b[0m\u001b[0m\n\u001b[0;32m   1132\u001b[0m         return_value = get_return_value(\n\u001b[1;32m-> 1133\u001b[1;33m             answer, self.gateway_client, self.target_id, self.name)\n\u001b[0m\u001b[0;32m   1134\u001b[0m \u001b[1;33m\u001b[0m\u001b[0m\n\u001b[0;32m   1135\u001b[0m         \u001b[1;32mfor\u001b[0m \u001b[0mtemp_arg\u001b[0m \u001b[1;32min\u001b[0m \u001b[0mtemp_args\u001b[0m\u001b[1;33m:\u001b[0m\u001b[1;33m\u001b[0m\u001b[0m\n",
      "\u001b[1;32m/usr/share/spark-2.0/python/pyspark/sql/utils.py\u001b[0m in \u001b[0;36mdeco\u001b[1;34m(*a, **kw)\u001b[0m\n\u001b[0;32m     61\u001b[0m     \u001b[1;32mdef\u001b[0m \u001b[0mdeco\u001b[0m\u001b[1;33m(\u001b[0m\u001b[1;33m*\u001b[0m\u001b[0ma\u001b[0m\u001b[1;33m,\u001b[0m \u001b[1;33m**\u001b[0m\u001b[0mkw\u001b[0m\u001b[1;33m)\u001b[0m\u001b[1;33m:\u001b[0m\u001b[1;33m\u001b[0m\u001b[0m\n\u001b[0;32m     62\u001b[0m         \u001b[1;32mtry\u001b[0m\u001b[1;33m:\u001b[0m\u001b[1;33m\u001b[0m\u001b[0m\n\u001b[1;32m---> 63\u001b[1;33m             \u001b[1;32mreturn\u001b[0m \u001b[0mf\u001b[0m\u001b[1;33m(\u001b[0m\u001b[1;33m*\u001b[0m\u001b[0ma\u001b[0m\u001b[1;33m,\u001b[0m \u001b[1;33m**\u001b[0m\u001b[0mkw\u001b[0m\u001b[1;33m)\u001b[0m\u001b[1;33m\u001b[0m\u001b[0m\n\u001b[0m\u001b[0;32m     64\u001b[0m         \u001b[1;32mexcept\u001b[0m \u001b[0mpy4j\u001b[0m\u001b[1;33m.\u001b[0m\u001b[0mprotocol\u001b[0m\u001b[1;33m.\u001b[0m\u001b[0mPy4JJavaError\u001b[0m \u001b[1;32mas\u001b[0m \u001b[0me\u001b[0m\u001b[1;33m:\u001b[0m\u001b[1;33m\u001b[0m\u001b[0m\n\u001b[0;32m     65\u001b[0m             \u001b[0ms\u001b[0m \u001b[1;33m=\u001b[0m \u001b[0me\u001b[0m\u001b[1;33m.\u001b[0m\u001b[0mjava_exception\u001b[0m\u001b[1;33m.\u001b[0m\u001b[0mtoString\u001b[0m\u001b[1;33m(\u001b[0m\u001b[1;33m)\u001b[0m\u001b[1;33m\u001b[0m\u001b[0m\n",
      "\u001b[1;32m/usr/share/spark-2.0/python/lib/py4j-0.10.3-src.zip/py4j/protocol.py\u001b[0m in \u001b[0;36mget_return_value\u001b[1;34m(answer, gateway_client, target_id, name)\u001b[0m\n\u001b[0;32m    317\u001b[0m                 raise Py4JJavaError(\n\u001b[0;32m    318\u001b[0m                     \u001b[1;34m\"An error occurred while calling {0}{1}{2}.\\n\"\u001b[0m\u001b[1;33m.\u001b[0m\u001b[1;33m\u001b[0m\u001b[0m\n\u001b[1;32m--> 319\u001b[1;33m                     format(target_id, \".\", name), value)\n\u001b[0m\u001b[0;32m    320\u001b[0m             \u001b[1;32melse\u001b[0m\u001b[1;33m:\u001b[0m\u001b[1;33m\u001b[0m\u001b[0m\n\u001b[0;32m    321\u001b[0m                 raise Py4JError(\n",
      "\u001b[1;31mPy4JJavaError\u001b[0m: An error occurred while calling o537.fit.\n: java.lang.AssertionError: assertion failed: lapack.dppsv returned 23.\n\tat scala.Predef$.assert(Predef.scala:170)\n\tat org.apache.spark.mllib.linalg.CholeskyDecomposition$.solve(CholeskyDecomposition.scala:40)\n\tat org.apache.spark.ml.optim.WeightedLeastSquares.fit(WeightedLeastSquares.scala:140)\n\tat org.apache.spark.ml.regression.LinearRegression.train(LinearRegression.scala:180)\n\tat org.apache.spark.ml.regression.LinearRegression.train(LinearRegression.scala:70)\n\tat org.apache.spark.ml.Predictor.fit(Predictor.scala:90)\n\tat sun.reflect.NativeMethodAccessorImpl.invoke0(Native Method)\n\tat sun.reflect.NativeMethodAccessorImpl.invoke(NativeMethodAccessorImpl.java:62)\n\tat sun.reflect.DelegatingMethodAccessorImpl.invoke(DelegatingMethodAccessorImpl.java:43)\n\tat java.lang.reflect.Method.invoke(Method.java:498)\n\tat py4j.reflection.MethodInvoker.invoke(MethodInvoker.java:237)\n\tat py4j.reflection.ReflectionEngine.invoke(ReflectionEngine.java:357)\n\tat py4j.Gateway.invoke(Gateway.java:280)\n\tat py4j.commands.AbstractCommand.invokeMethod(AbstractCommand.java:132)\n\tat py4j.commands.CallCommand.execute(CallCommand.java:79)\n\tat py4j.GatewayConnection.run(GatewayConnection.java:214)\n\tat java.lang.Thread.run(Thread.java:745)\n"
     ],
     "output_type": "error"
    }
   ],
   "source": [
    "from pyspark.ml.regression import LinearRegression\n",
    "from pyspark.ml.evaluation import RegressionEvaluator\n",
    "\n",
    "lr = LinearRegression(labelCol='avgspeed')\n",
    "model = lr.fit(train) #rmse=0.921361"
   ]
  },
  {
   "cell_type": "code",
   "execution_count": 15,
   "metadata": {
    "collapsed": false
   },
   "outputs": [
    {
     "ename": "Py4JJavaError",
     "evalue": "An error occurred while calling o378.fit.\n: java.lang.AssertionError: assertion failed: lapack.dppsv returned 23.\n\tat scala.Predef$.assert(Predef.scala:170)\n\tat org.apache.spark.mllib.linalg.CholeskyDecomposition$.solve(CholeskyDecomposition.scala:40)\n\tat org.apache.spark.ml.optim.WeightedLeastSquares.fit(WeightedLeastSquares.scala:140)\n\tat org.apache.spark.ml.regression.GeneralizedLinearRegression$FamilyAndLink.initialize(GeneralizedLinearRegression.scala:340)\n\tat org.apache.spark.ml.regression.GeneralizedLinearRegression.train(GeneralizedLinearRegression.scala:275)\n\tat org.apache.spark.ml.regression.GeneralizedLinearRegression.train(GeneralizedLinearRegression.scala:139)\n\tat org.apache.spark.ml.Predictor.fit(Predictor.scala:90)\n\tat sun.reflect.NativeMethodAccessorImpl.invoke0(Native Method)\n\tat sun.reflect.NativeMethodAccessorImpl.invoke(NativeMethodAccessorImpl.java:62)\n\tat sun.reflect.DelegatingMethodAccessorImpl.invoke(DelegatingMethodAccessorImpl.java:43)\n\tat java.lang.reflect.Method.invoke(Method.java:498)\n\tat py4j.reflection.MethodInvoker.invoke(MethodInvoker.java:237)\n\tat py4j.reflection.ReflectionEngine.invoke(ReflectionEngine.java:357)\n\tat py4j.Gateway.invoke(Gateway.java:280)\n\tat py4j.commands.AbstractCommand.invokeMethod(AbstractCommand.java:132)\n\tat py4j.commands.CallCommand.execute(CallCommand.java:79)\n\tat py4j.GatewayConnection.run(GatewayConnection.java:214)\n\tat java.lang.Thread.run(Thread.java:745)\n",
     "traceback": [
      "\u001b[1;31m---------------------------------------------------------------------------\u001b[0m",
      "\u001b[1;31mPy4JJavaError\u001b[0m                             Traceback (most recent call last)",
      "\u001b[1;32m<ipython-input-15-54e080441498>\u001b[0m in \u001b[0;36m<module>\u001b[1;34m()\u001b[0m\n\u001b[0;32m      2\u001b[0m \u001b[1;33m\u001b[0m\u001b[0m\n\u001b[0;32m      3\u001b[0m \u001b[0mglr\u001b[0m \u001b[1;33m=\u001b[0m \u001b[0mGeneralizedLinearRegression\u001b[0m\u001b[1;33m(\u001b[0m\u001b[0mfamily\u001b[0m\u001b[1;33m=\u001b[0m\u001b[1;34m\"poisson\"\u001b[0m\u001b[1;33m,\u001b[0m \u001b[0mlink\u001b[0m\u001b[1;33m=\u001b[0m\u001b[1;34m\"log\"\u001b[0m\u001b[1;33m,\u001b[0m \u001b[0mregParam\u001b[0m\u001b[1;33m=\u001b[0m\u001b[1;36m1\u001b[0m\u001b[1;33m,\u001b[0m \u001b[0mlabelCol\u001b[0m\u001b[1;33m=\u001b[0m\u001b[1;34m'avgspeed'\u001b[0m\u001b[1;33m)\u001b[0m\u001b[1;33m\u001b[0m\u001b[0m\n\u001b[1;32m----> 4\u001b[1;33m \u001b[0mmodel\u001b[0m \u001b[1;33m=\u001b[0m \u001b[0mglr\u001b[0m\u001b[1;33m.\u001b[0m\u001b[0mfit\u001b[0m\u001b[1;33m(\u001b[0m\u001b[0mtrain\u001b[0m\u001b[1;33m)\u001b[0m \u001b[1;31m#rmse=0.91962\u001b[0m\u001b[1;33m\u001b[0m\u001b[0m\n\u001b[0m",
      "\u001b[1;32m/usr/share/spark-2.0/python/pyspark/ml/base.py\u001b[0m in \u001b[0;36mfit\u001b[1;34m(self, dataset, params)\u001b[0m\n\u001b[0;32m     62\u001b[0m                 \u001b[1;32mreturn\u001b[0m \u001b[0mself\u001b[0m\u001b[1;33m.\u001b[0m\u001b[0mcopy\u001b[0m\u001b[1;33m(\u001b[0m\u001b[0mparams\u001b[0m\u001b[1;33m)\u001b[0m\u001b[1;33m.\u001b[0m\u001b[0m_fit\u001b[0m\u001b[1;33m(\u001b[0m\u001b[0mdataset\u001b[0m\u001b[1;33m)\u001b[0m\u001b[1;33m\u001b[0m\u001b[0m\n\u001b[0;32m     63\u001b[0m             \u001b[1;32melse\u001b[0m\u001b[1;33m:\u001b[0m\u001b[1;33m\u001b[0m\u001b[0m\n\u001b[1;32m---> 64\u001b[1;33m                 \u001b[1;32mreturn\u001b[0m \u001b[0mself\u001b[0m\u001b[1;33m.\u001b[0m\u001b[0m_fit\u001b[0m\u001b[1;33m(\u001b[0m\u001b[0mdataset\u001b[0m\u001b[1;33m)\u001b[0m\u001b[1;33m\u001b[0m\u001b[0m\n\u001b[0m\u001b[0;32m     65\u001b[0m         \u001b[1;32melse\u001b[0m\u001b[1;33m:\u001b[0m\u001b[1;33m\u001b[0m\u001b[0m\n\u001b[0;32m     66\u001b[0m             raise ValueError(\"Params must be either a param map or a list/tuple of param maps, \"\n",
      "\u001b[1;32m/usr/share/spark-2.0/python/pyspark/ml/wrapper.py\u001b[0m in \u001b[0;36m_fit\u001b[1;34m(self, dataset)\u001b[0m\n\u001b[0;32m    211\u001b[0m \u001b[1;33m\u001b[0m\u001b[0m\n\u001b[0;32m    212\u001b[0m     \u001b[1;32mdef\u001b[0m \u001b[0m_fit\u001b[0m\u001b[1;33m(\u001b[0m\u001b[0mself\u001b[0m\u001b[1;33m,\u001b[0m \u001b[0mdataset\u001b[0m\u001b[1;33m)\u001b[0m\u001b[1;33m:\u001b[0m\u001b[1;33m\u001b[0m\u001b[0m\n\u001b[1;32m--> 213\u001b[1;33m         \u001b[0mjava_model\u001b[0m \u001b[1;33m=\u001b[0m \u001b[0mself\u001b[0m\u001b[1;33m.\u001b[0m\u001b[0m_fit_java\u001b[0m\u001b[1;33m(\u001b[0m\u001b[0mdataset\u001b[0m\u001b[1;33m)\u001b[0m\u001b[1;33m\u001b[0m\u001b[0m\n\u001b[0m\u001b[0;32m    214\u001b[0m         \u001b[1;32mreturn\u001b[0m \u001b[0mself\u001b[0m\u001b[1;33m.\u001b[0m\u001b[0m_create_model\u001b[0m\u001b[1;33m(\u001b[0m\u001b[0mjava_model\u001b[0m\u001b[1;33m)\u001b[0m\u001b[1;33m\u001b[0m\u001b[0m\n\u001b[0;32m    215\u001b[0m \u001b[1;33m\u001b[0m\u001b[0m\n",
      "\u001b[1;32m/usr/share/spark-2.0/python/pyspark/ml/wrapper.py\u001b[0m in \u001b[0;36m_fit_java\u001b[1;34m(self, dataset)\u001b[0m\n\u001b[0;32m    208\u001b[0m         \"\"\"\n\u001b[0;32m    209\u001b[0m         \u001b[0mself\u001b[0m\u001b[1;33m.\u001b[0m\u001b[0m_transfer_params_to_java\u001b[0m\u001b[1;33m(\u001b[0m\u001b[1;33m)\u001b[0m\u001b[1;33m\u001b[0m\u001b[0m\n\u001b[1;32m--> 210\u001b[1;33m         \u001b[1;32mreturn\u001b[0m \u001b[0mself\u001b[0m\u001b[1;33m.\u001b[0m\u001b[0m_java_obj\u001b[0m\u001b[1;33m.\u001b[0m\u001b[0mfit\u001b[0m\u001b[1;33m(\u001b[0m\u001b[0mdataset\u001b[0m\u001b[1;33m.\u001b[0m\u001b[0m_jdf\u001b[0m\u001b[1;33m)\u001b[0m\u001b[1;33m\u001b[0m\u001b[0m\n\u001b[0m\u001b[0;32m    211\u001b[0m \u001b[1;33m\u001b[0m\u001b[0m\n\u001b[0;32m    212\u001b[0m     \u001b[1;32mdef\u001b[0m \u001b[0m_fit\u001b[0m\u001b[1;33m(\u001b[0m\u001b[0mself\u001b[0m\u001b[1;33m,\u001b[0m \u001b[0mdataset\u001b[0m\u001b[1;33m)\u001b[0m\u001b[1;33m:\u001b[0m\u001b[1;33m\u001b[0m\u001b[0m\n",
      "\u001b[1;32m/usr/share/spark-2.0/python/lib/py4j-0.10.3-src.zip/py4j/java_gateway.py\u001b[0m in \u001b[0;36m__call__\u001b[1;34m(self, *args)\u001b[0m\n\u001b[0;32m   1131\u001b[0m         \u001b[0manswer\u001b[0m \u001b[1;33m=\u001b[0m \u001b[0mself\u001b[0m\u001b[1;33m.\u001b[0m\u001b[0mgateway_client\u001b[0m\u001b[1;33m.\u001b[0m\u001b[0msend_command\u001b[0m\u001b[1;33m(\u001b[0m\u001b[0mcommand\u001b[0m\u001b[1;33m)\u001b[0m\u001b[1;33m\u001b[0m\u001b[0m\n\u001b[0;32m   1132\u001b[0m         return_value = get_return_value(\n\u001b[1;32m-> 1133\u001b[1;33m             answer, self.gateway_client, self.target_id, self.name)\n\u001b[0m\u001b[0;32m   1134\u001b[0m \u001b[1;33m\u001b[0m\u001b[0m\n\u001b[0;32m   1135\u001b[0m         \u001b[1;32mfor\u001b[0m \u001b[0mtemp_arg\u001b[0m \u001b[1;32min\u001b[0m \u001b[0mtemp_args\u001b[0m\u001b[1;33m:\u001b[0m\u001b[1;33m\u001b[0m\u001b[0m\n",
      "\u001b[1;32m/usr/share/spark-2.0/python/pyspark/sql/utils.py\u001b[0m in \u001b[0;36mdeco\u001b[1;34m(*a, **kw)\u001b[0m\n\u001b[0;32m     61\u001b[0m     \u001b[1;32mdef\u001b[0m \u001b[0mdeco\u001b[0m\u001b[1;33m(\u001b[0m\u001b[1;33m*\u001b[0m\u001b[0ma\u001b[0m\u001b[1;33m,\u001b[0m \u001b[1;33m**\u001b[0m\u001b[0mkw\u001b[0m\u001b[1;33m)\u001b[0m\u001b[1;33m:\u001b[0m\u001b[1;33m\u001b[0m\u001b[0m\n\u001b[0;32m     62\u001b[0m         \u001b[1;32mtry\u001b[0m\u001b[1;33m:\u001b[0m\u001b[1;33m\u001b[0m\u001b[0m\n\u001b[1;32m---> 63\u001b[1;33m             \u001b[1;32mreturn\u001b[0m \u001b[0mf\u001b[0m\u001b[1;33m(\u001b[0m\u001b[1;33m*\u001b[0m\u001b[0ma\u001b[0m\u001b[1;33m,\u001b[0m \u001b[1;33m**\u001b[0m\u001b[0mkw\u001b[0m\u001b[1;33m)\u001b[0m\u001b[1;33m\u001b[0m\u001b[0m\n\u001b[0m\u001b[0;32m     64\u001b[0m         \u001b[1;32mexcept\u001b[0m \u001b[0mpy4j\u001b[0m\u001b[1;33m.\u001b[0m\u001b[0mprotocol\u001b[0m\u001b[1;33m.\u001b[0m\u001b[0mPy4JJavaError\u001b[0m \u001b[1;32mas\u001b[0m \u001b[0me\u001b[0m\u001b[1;33m:\u001b[0m\u001b[1;33m\u001b[0m\u001b[0m\n\u001b[0;32m     65\u001b[0m             \u001b[0ms\u001b[0m \u001b[1;33m=\u001b[0m \u001b[0me\u001b[0m\u001b[1;33m.\u001b[0m\u001b[0mjava_exception\u001b[0m\u001b[1;33m.\u001b[0m\u001b[0mtoString\u001b[0m\u001b[1;33m(\u001b[0m\u001b[1;33m)\u001b[0m\u001b[1;33m\u001b[0m\u001b[0m\n",
      "\u001b[1;32m/usr/share/spark-2.0/python/lib/py4j-0.10.3-src.zip/py4j/protocol.py\u001b[0m in \u001b[0;36mget_return_value\u001b[1;34m(answer, gateway_client, target_id, name)\u001b[0m\n\u001b[0;32m    317\u001b[0m                 raise Py4JJavaError(\n\u001b[0;32m    318\u001b[0m                     \u001b[1;34m\"An error occurred while calling {0}{1}{2}.\\n\"\u001b[0m\u001b[1;33m.\u001b[0m\u001b[1;33m\u001b[0m\u001b[0m\n\u001b[1;32m--> 319\u001b[1;33m                     format(target_id, \".\", name), value)\n\u001b[0m\u001b[0;32m    320\u001b[0m             \u001b[1;32melse\u001b[0m\u001b[1;33m:\u001b[0m\u001b[1;33m\u001b[0m\u001b[0m\n\u001b[0;32m    321\u001b[0m                 raise Py4JError(\n",
      "\u001b[1;31mPy4JJavaError\u001b[0m: An error occurred while calling o378.fit.\n: java.lang.AssertionError: assertion failed: lapack.dppsv returned 23.\n\tat scala.Predef$.assert(Predef.scala:170)\n\tat org.apache.spark.mllib.linalg.CholeskyDecomposition$.solve(CholeskyDecomposition.scala:40)\n\tat org.apache.spark.ml.optim.WeightedLeastSquares.fit(WeightedLeastSquares.scala:140)\n\tat org.apache.spark.ml.regression.GeneralizedLinearRegression$FamilyAndLink.initialize(GeneralizedLinearRegression.scala:340)\n\tat org.apache.spark.ml.regression.GeneralizedLinearRegression.train(GeneralizedLinearRegression.scala:275)\n\tat org.apache.spark.ml.regression.GeneralizedLinearRegression.train(GeneralizedLinearRegression.scala:139)\n\tat org.apache.spark.ml.Predictor.fit(Predictor.scala:90)\n\tat sun.reflect.NativeMethodAccessorImpl.invoke0(Native Method)\n\tat sun.reflect.NativeMethodAccessorImpl.invoke(NativeMethodAccessorImpl.java:62)\n\tat sun.reflect.DelegatingMethodAccessorImpl.invoke(DelegatingMethodAccessorImpl.java:43)\n\tat java.lang.reflect.Method.invoke(Method.java:498)\n\tat py4j.reflection.MethodInvoker.invoke(MethodInvoker.java:237)\n\tat py4j.reflection.ReflectionEngine.invoke(ReflectionEngine.java:357)\n\tat py4j.Gateway.invoke(Gateway.java:280)\n\tat py4j.commands.AbstractCommand.invokeMethod(AbstractCommand.java:132)\n\tat py4j.commands.CallCommand.execute(CallCommand.java:79)\n\tat py4j.GatewayConnection.run(GatewayConnection.java:214)\n\tat java.lang.Thread.run(Thread.java:745)\n"
     ],
     "output_type": "error"
    }
   ],
   "source": [
    "from pyspark.ml.regression import GeneralizedLinearRegression\n",
    "\n",
    "glr = GeneralizedLinearRegression(family=\"poisson\", link=\"log\", regParam=1, labelCol='avgspeed')\n",
    "model = glr.fit(train) #rmse=0.91962"
   ]
  },
  {
   "cell_type": "code",
   "execution_count": 11,
   "metadata": {
    "collapsed": true
   },
   "outputs": [],
   "source": [
    "from pyspark.ml.regression import DecisionTreeRegressor\n",
    "\n",
    "dt = DecisionTreeRegressor(maxDepth=30, maxBins=50, minInstancesPerNode=5, labelCol='avgspeed')\n",
    "model = dt.fit(train) #rmse=0.507627"
   ]
  },
  {
   "cell_type": "code",
   "execution_count": 13,
   "metadata": {
    "collapsed": true
   },
   "outputs": [],
   "source": [
    "from pyspark.ml.regression import RandomForestRegressor\n",
    "\n",
    "rf = RandomForestRegressor(maxDepth=30, maxBins=50, minInstancesPerNode=4, numTrees=40, labelCol='avgspeed')\n",
    "model = rf.fit(train) #rmse=0.490043"
   ]
  },
  {
   "cell_type": "code",
   "execution_count": 14,
   "metadata": {
    "collapsed": false
   },
   "outputs": [
    {
     "name": "stdout",
     "output_type": "stream",
     "text": [
      "Root Mean Squared Error (RMSE) on test data = 5.13024\n"
     ]
    }
   ],
   "source": [
    "predictions = model.transform(test)\n",
    "evaluator = RegressionEvaluator(labelCol=\"avgspeed\", predictionCol=\"prediction\", metricName=\"rmse\")\n",
    "rmse = evaluator.evaluate(predictions)\n",
    "print(\"Root Mean Squared Error (RMSE) on test data = %g\" % rmse)"
   ]
  }
 ],
 "metadata": {
  "kernelspec": {
   "display_name": "Python 2",
   "language": "python",
   "name": "python2"
  },
  "language_info": {
   "codemirror_mode": {
    "name": "ipython",
    "version": 2.0
   },
   "file_extension": ".py",
   "mimetype": "text/x-python",
   "name": "python",
   "nbconvert_exporter": "python",
   "pygments_lexer": "ipython2",
   "version": "2.7.6"
  }
 },
 "nbformat": 4,
 "nbformat_minor": 0
}