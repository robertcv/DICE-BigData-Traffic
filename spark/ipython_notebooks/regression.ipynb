{
 "cells": [
  {
   "cell_type": "code",
   "execution_count": 2,
   "metadata": {
    "collapsed": true,
    "deletable": true,
    "editable": true
   },
   "outputs": [],
   "source": [
    "from pyspark.sql import SQLContext\n",
    "\n",
    "sqlContext = SQLContext(sc)"
   ]
  },
  {
   "cell_type": "code",
   "execution_count": 3,
   "metadata": {
    "collapsed": false,
    "deletable": true,
    "editable": true
   },
   "outputs": [
    {
     "data": {
      "text/plain": [
       "DataFrame[id: string, modified: timestamp, contentname: string, crsid: string, description: string, icon: string, stevci_cestaopis: string, stevci_gap: float, stevci_hit: int, stevci_lokacijaopis: string, stevci_pasopis: string, stevci_smeropis: string, stevci_stat: int, stevci_statopis: string, stevci_stev: int, title: string, x: float, x_wgs: float, y: float, y_wgs: float]"
      ]
     },
     "execution_count": 3,
     "metadata": {},
     "output_type": "execute_result"
    }
   ],
   "source": [
    "counters = sqlContext.read.format(\"org.apache.spark.sql.cassandra\").load(table=\"counters\", keyspace=\"dice\")\n",
    "counters.cache()"
   ]
  },
  {
   "cell_type": "code",
   "execution_count": 4,
   "metadata": {
    "collapsed": false,
    "deletable": true,
    "editable": true
   },
   "outputs": [
    {
     "name": "stdout",
     "output_type": "stream",
     "text": [
      "+---------------------+-----------+\n",
      "|stevci_statopis      |stevci_stat|\n",
      "+---------------------+-----------+\n",
      "|Zgoščen promet       |3          |\n",
      "|Ni prometa           |6          |\n",
      "|Gost promet          |4          |\n",
      "|Gost promet z zastoji|5          |\n",
      "|Povečan promet       |2          |\n",
      "|Normalen promet      |1          |\n",
      "+---------------------+-----------+\n",
      "\n"
     ]
    }
   ],
   "source": [
    "counters.select(counters.stevci_statopis, counters.stevci_stat).distinct().show(truncate=False)"
   ]
  },
  {
   "cell_type": "code",
   "execution_count": 4,
   "metadata": {
    "collapsed": true,
    "deletable": true,
    "editable": true
   },
   "outputs": [],
   "source": [
    "from pyspark.sql.functions import udf\n",
    "from pyspark.sql.types import IntegerType, FloatType\n",
    "\n",
    "hourTokens = udf(lambda time: time.hour, IntegerType())\n",
    "counters = counters.withColumn('hour', hourTokens(counters.modified))\n",
    "weekTokens = udf(lambda time: time.weekday(), IntegerType())\n",
    "counters = counters.withColumn('weekday', weekTokens(counters.modified))"
   ]
  },
  {
   "cell_type": "code",
   "execution_count": 14,
   "metadata": {
    "collapsed": true,
    "deletable": true,
    "editable": true
   },
   "outputs": [],
   "source": [
    "map_stat = {\n",
    "    u'Ni prometa': 1.0,\n",
    "    u'Normalen promet': 2.0,\n",
    "    u'Pove\\u010dan promet': 3.0,\n",
    "    u'Zgo\\u0161\\u010den promet': 4.0,\n",
    "    u'Gost promet': 5.0,\n",
    "    u'Gost promet z zastoji': 6.0\n",
    "}\n",
    "statTokens = udf(lambda stat: map_stat[stat], FloatType())\n",
    "counters = counters.withColumn('stat', statTokens(counters.stevci_statopis))"
   ]
  },
  {
   "cell_type": "code",
   "execution_count": 15,
   "metadata": {
    "collapsed": false,
    "deletable": true,
    "editable": true
   },
   "outputs": [
    {
     "name": "stdout",
     "output_type": "stream",
     "text": [
      "+--------------------+----+\n",
      "|     stevci_statopis|stat|\n",
      "+--------------------+----+\n",
      "|          Ni prometa| 1.0|\n",
      "|      Zgoščen promet| 4.0|\n",
      "|      Povečan promet| 3.0|\n",
      "|     Normalen promet| 2.0|\n",
      "|         Gost promet| 5.0|\n",
      "|Gost promet z zas...| 6.0|\n",
      "+--------------------+----+\n",
      "\n"
     ]
    }
   ],
   "source": [
    "counters.select(counters.stevci_statopis, 'stat').distinct().show()"
   ]
  },
  {
   "cell_type": "code",
   "execution_count": 16,
   "metadata": {
    "collapsed": false,
    "deletable": true,
    "editable": true
   },
   "outputs": [],
   "source": [
    "from pyspark.ml.feature import RFormula\n",
    "\n",
    "formula = RFormula(formula=\"stat ~ id + hour + weekday + hour : weekday + id : hour + weekday\")\n",
    "data = formula.fit(counters).transform(counters)\n",
    "data = data.select('stat', 'features')\n",
    "#data.show(truncate=False)\n",
    "#data.printSchema()"
   ]
  },
  {
   "cell_type": "code",
   "execution_count": 17,
   "metadata": {
    "collapsed": true,
    "deletable": true,
    "editable": true
   },
   "outputs": [],
   "source": [
    "train, test = data.randomSplit([0.7, 0.3], 1234)"
   ]
  },
  {
   "cell_type": "code",
   "execution_count": 18,
   "metadata": {
    "collapsed": false
   },
   "outputs": [
    {
     "name": "stdout",
     "output_type": "stream",
     "text": [
      "+----+\n",
      "|stat|\n",
      "+----+\n",
      "| 5.0|\n",
      "| 2.0|\n",
      "| 3.0|\n",
      "| 1.0|\n",
      "| 6.0|\n",
      "| 4.0|\n",
      "+----+\n",
      "\n"
     ]
    }
   ],
   "source": [
    "train.select('stat').distinct().show()"
   ]
  },
  {
   "cell_type": "code",
   "execution_count": 49,
   "metadata": {
    "collapsed": false,
    "deletable": true,
    "editable": true
   },
   "outputs": [],
   "source": [
    "from pyspark.ml.regression import LinearRegression\n",
    "from pyspark.ml.evaluation import RegressionEvaluator\n",
    "\n",
    "lr = LinearRegression(regParam=0.001, labelCol='stat')\n",
    "model = lr.fit(train) #rmse=0.921361"
   ]
  },
  {
   "cell_type": "code",
   "execution_count": 72,
   "metadata": {
    "collapsed": false,
    "deletable": true,
    "editable": true
   },
   "outputs": [],
   "source": [
    "from pyspark.ml.regression import GeneralizedLinearRegression\n",
    "\n",
    "glr = GeneralizedLinearRegression(family=\"poisson\", link=\"log\", regParam=0.0001, labelCol='stat')\n",
    "model = glr.fit(train) #rmse=0.91962"
   ]
  },
  {
   "cell_type": "code",
   "execution_count": 94,
   "metadata": {
    "collapsed": false,
    "deletable": true,
    "editable": true
   },
   "outputs": [],
   "source": [
    "from pyspark.ml.regression import DecisionTreeRegressor\n",
    "\n",
    "dt = DecisionTreeRegressor(maxDepth=30, maxBins=50, minInstancesPerNode=5, labelCol='stat')\n",
    "model = dt.fit(train) #rmse=0.507627"
   ]
  },
  {
   "cell_type": "code",
   "execution_count": 118,
   "metadata": {
    "collapsed": true,
    "deletable": true,
    "editable": true
   },
   "outputs": [],
   "source": [
    "from pyspark.ml.regression import RandomForestRegressor\n",
    "\n",
    "rf = RandomForestRegressor(maxDepth=30, maxBins=50, minInstancesPerNode=4, numTrees=40, labelCol='stat')\n",
    "model = rf.fit(train) #rmse=0.490043"
   ]
  },
  {
   "cell_type": "code",
   "execution_count": 119,
   "metadata": {
    "collapsed": false,
    "deletable": true,
    "editable": true
   },
   "outputs": [
    {
     "name": "stdout",
     "output_type": "stream",
     "text": [
      "Root Mean Squared Error (RMSE) on test data = 0.490043\n"
     ]
    }
   ],
   "source": [
    "predictions = model.transform(test)\n",
    "evaluator = RegressionEvaluator(labelCol=\"stat\", predictionCol=\"prediction\", metricName=\"rmse\")\n",
    "rmse = evaluator.evaluate(predictions)\n",
    "print(\"Root Mean Squared Error (RMSE) on test data = %g\" % rmse)"
   ]
  }
 ],
 "metadata": {
  "kernelspec": {
   "display_name": "Python 2",
   "language": "python",
   "name": "python2"
  },
  "language_info": {
   "codemirror_mode": {
    "name": "ipython",
    "version": 2.0
   },
   "file_extension": ".py",
   "mimetype": "text/x-python",
   "name": "python",
   "nbconvert_exporter": "python",
   "pygments_lexer": "ipython2",
   "version": "2.7.6"
  }
 },
 "nbformat": 4,
 "nbformat_minor": 0
}