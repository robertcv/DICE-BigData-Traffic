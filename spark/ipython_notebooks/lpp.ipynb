{
 "cells": [
  {
   "cell_type": "code",
   "execution_count": 1,
   "metadata": {
    "collapsed": true
   },
   "outputs": [],
   "source": [
    "from pyspark.sql import SQLContext\n",
    "sqlContext = SQLContext(sc)"
   ]
  },
  {
   "cell_type": "code",
   "execution_count": 68,
   "metadata": {},
   "outputs": [
    {
     "data": {
      "text/plain": [
       "DataFrame[station_int_id: int, route_int_id: int, arrival_time: timestamp, vehicle_int_id: int]"
      ]
     },
     "execution_count": 68,
     "metadata": {},
     "output_type": "execute_result"
    }
   ],
   "source": [
    "lpp_static = sqlContext.read.format(\"org.apache.spark.sql.cassandra\").load(table=\"lpp_static\", keyspace=\"dice\")\n",
    "lpp_static.cache()\n",
    "lpp_live = sqlContext.read.format(\"org.apache.spark.sql.cassandra\").load(table=\"lpp_live\", keyspace=\"dice\")\n",
    "lpp_live.cache()"
   ]
  },
  {
   "cell_type": "code",
   "execution_count": 71,
   "metadata": {},
   "outputs": [],
   "source": [
    "from pyspark.sql.functions import udf\n",
    "from pyspark.sql.types import DateType, IntegerType\n",
    "\n",
    "hourTokens = udf(lambda time: time.hour, IntegerType())\n",
    "lpp_static = lpp_static.withColumn('hour', hourTokens(lpp_static.arrival_time))\n",
    "lpp_live = lpp_live.withColumn('hour', hourTokens(lpp_live.arrival_time))\n",
    "\n",
    "minuteTokens = udf(lambda time: time.minute, IntegerType())\n",
    "lpp_static = lpp_static.withColumn('minute', minuteTokens(lpp_static.arrival_time))\n",
    "lpp_live = lpp_live.withColumn('minute', minuteTokens(lpp_live.arrival_time))\n",
    "\n",
    "dateTokens = udf(lambda time: time.date(), DateType())\n",
    "lpp_static = lpp_static.withColumn('date', dateTokens(lpp_static.arrival_time))\n",
    "lpp_live = lpp_live.withColumn('date', dateTokens(lpp_live.arrival_time))"
   ]
  },
  {
   "cell_type": "code",
   "execution_count": 72,
   "metadata": {},
   "outputs": [
    {
     "data": {
      "text/plain": [
       "Row(station_int_id=2322, route_int_id=1581, arrival_time=datetime.datetime(2017, 4, 12, 7, 56, 34), vehicle_int_id=410, hour=7, minute=56, date=datetime.date(2017, 4, 12))"
      ]
     },
     "execution_count": 72,
     "metadata": {},
     "output_type": "execute_result"
    }
   ],
   "source": [
    "lpp_live.first()"
   ]
  },
  {
   "cell_type": "code",
   "execution_count": 73,
   "metadata": {},
   "outputs": [
    {
     "name": "stdout",
     "output_type": "stream",
     "text": [
      "+--------------+------------+----------+-----+\n",
      "|station_int_id|route_int_id|      date|count|\n",
      "+--------------+------------+----------+-----+\n",
      "|          1920|         946|2017-04-08|    3|\n",
      "|          2096|        1033|2017-04-12|    2|\n",
      "|          3798|        1643|2017-04-07|    4|\n",
      "|          2056|         911|2017-04-11|   11|\n",
      "|          1963|         717|2017-04-12|   80|\n",
      "|          1932|         726|2017-04-08|   19|\n",
      "|          1946|         730|2017-04-13|   65|\n",
      "|          1946|        1580|2017-04-09|    9|\n",
      "|          1929|        1542|2017-04-13|   32|\n",
      "|          2339|        1037|2017-04-07|    2|\n",
      "|          1934|        1642|2017-04-10|    4|\n",
      "|          2005|         364|2017-04-11|   35|\n",
      "|          2006|         737|2017-04-14|   79|\n",
      "|          1984|        1615|2017-04-09|   14|\n",
      "|          1985|        1039|2017-04-10|    5|\n",
      "|          1985|        1056|2017-04-11|    2|\n",
      "|          1941|         727|2017-04-14|   40|\n",
      "|          1941|        1196|2017-04-14|    2|\n",
      "|          1943|        1554|2017-04-14|    2|\n",
      "|          2215|        1387|2017-04-07|   39|\n",
      "+--------------+------------+----------+-----+\n",
      "only showing top 20 rows\n",
      "\n"
     ]
    }
   ],
   "source": [
    "static = lpp_static.groupBy('station_int_id', 'route_int_id', 'date').count()\n",
    "static.show()"
   ]
  },
  {
   "cell_type": "code",
   "execution_count": 74,
   "metadata": {},
   "outputs": [
    {
     "name": "stdout",
     "output_type": "stream",
     "text": [
      "+--------------+------------+----------+-----+\n",
      "|station_int_id|route_int_id|      date|count|\n",
      "+--------------+------------+----------+-----+\n",
      "|          1963|         717|2017-04-12|    7|\n",
      "|          1946|         730|2017-04-13|   29|\n",
      "|          1946|        1580|2017-04-09|    7|\n",
      "|          1929|        1542|2017-04-13|    2|\n",
      "|          1927|        1186|2017-04-11|    4|\n",
      "|          2005|         364|2017-04-11|    4|\n",
      "|          2006|         737|2017-04-14|   34|\n",
      "|          1985|        1039|2017-04-10|    2|\n",
      "|          1941|         727|2017-04-14|   13|\n",
      "|          1939|        1193|2017-04-08|   37|\n",
      "|          1940|         346|2017-04-10|   38|\n",
      "|          1944|         737|2017-04-14|   21|\n",
      "|          1944|         791|2017-04-12|    1|\n",
      "|          1944|        1563|2017-04-09|    9|\n",
      "|          1976|        1563|2017-04-10|   29|\n",
      "|          1976|        1582|2017-04-07|   10|\n",
      "|          1976|        1587|2017-04-12|   38|\n",
      "|          2083|         799|2017-04-07|    7|\n",
      "|          1952|        1544|2017-04-13|   47|\n",
      "|          4460|        1563|2017-04-10|    2|\n",
      "+--------------+------------+----------+-----+\n",
      "only showing top 20 rows\n",
      "\n"
     ]
    }
   ],
   "source": [
    "live = lpp_live.groupBy('station_int_id', 'route_int_id', 'date').count()\n",
    "live.show()"
   ]
  },
  {
   "cell_type": "code",
   "execution_count": 76,
   "metadata": {},
   "outputs": [
    {
     "name": "stdout",
     "output_type": "stream",
     "text": [
      "+--------------+------------+----------+-----+\n",
      "|station_int_id|route_int_id|      date|count|\n",
      "+--------------+------------+----------+-----+\n",
      "|          1985|         717|2017-04-12|   79|\n",
      "+--------------+------------+----------+-----+\n",
      "\n"
     ]
    }
   ],
   "source": [
    "comb = static.join(live, ['station_int_id', 'route_int_id', 'date', 'count'], 'inner').where('count > 50')\n",
    "comb.show()"
   ]
  }
 ],
 "metadata": {
  "kernelspec": {
   "display_name": "Python 2",
   "language": "python",
   "name": "python2"
  },
  "language_info": {
   "codemirror_mode": {
    "name": "ipython",
    "version": 2
   },
   "file_extension": ".py",
   "mimetype": "text/x-python",
   "name": "python",
   "nbconvert_exporter": "python",
   "pygments_lexer": "ipython2",
   "version": "2.7.12"
  }
 },
 "nbformat": 4,
 "nbformat_minor": 2
}
