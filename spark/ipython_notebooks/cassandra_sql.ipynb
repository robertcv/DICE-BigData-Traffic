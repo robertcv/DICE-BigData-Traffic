{
 "cells": [
  {
   "cell_type": "code",
   "execution_count": null,
   "metadata": {
    "collapsed": true
   },
   "outputs": [],
   "source": [
    "from pyspark.sql import SQLContext\n",
    "\n",
    "sqlContext = SQLContext(sc)"
   ]
  },
  {
   "cell_type": "code",
   "execution_count": 2,
   "metadata": {
    "collapsed": true
   },
   "outputs": [],
   "source": [
    "counters = sqlContext.read.format(\"org.apache.spark.sql.cassandra\").load(table=\"counters\", keyspace=\"dice\")"
   ]
  },
  {
   "cell_type": "code",
   "execution_count": 3,
   "metadata": {},
   "outputs": [
    {
     "data": {
      "text/plain": [
       "[Row(id=u'0832', modified=datetime.datetime(2017, 4, 10, 13, 28, 25, 131000), contentname=u'stevci', crsid=u'EPSG:2170', description=u'AC-A2, Kamna Gorica AC', icon=u'res/icons/stevci/stevec_4.png', stevci_cestaopis=u'AC-A2', stevci_gap=3.700000047683716, stevci_hit=116, stevci_lokacijaopis=u'Kamna Gorica AC', stevci_pasopis=u'(p)', stevci_smeropis=u'\\u0160entvid - Koseze', stevci_stat=3, stevci_statopis=u'Zgo\\u0161\\u010den promet', stevci_stev=888, title=u'AC-A2, Kamna Gorica AC', x=458647.0, x_wgs=14.460399627685547, y=104340.0, y_wgs=46.08195114135742)]"
      ]
     },
     "execution_count": 3,
     "metadata": {},
     "output_type": "execute_result"
    }
   ],
   "source": [
    "counters.limit(1).collect()"
   ]
  },
  {
   "cell_type": "code",
   "execution_count": 4,
   "metadata": {},
   "outputs": [
    {
     "name": "stdout",
     "output_type": "stream",
     "text": [
      "+----+--------------------+-----------+---------+--------------------+--------------------+----------------+----------+----------+-------------------+--------------+----------------+-----------+---------------+-----------+--------------------+--------+-------+--------+--------+\n",
      "|  id|            modified|contentname|    crsid|         description|                icon|stevci_cestaopis|stevci_gap|stevci_hit|stevci_lokacijaopis|stevci_pasopis| stevci_smeropis|stevci_stat|stevci_statopis|stevci_stev|               title|       x|  x_wgs|       y|   y_wgs|\n",
      "+----+--------------------+-----------+---------+--------------------+--------------------+----------------+----------+----------+-------------------+--------------+----------------+-----------+---------------+-----------+--------------------+--------+-------+--------+--------+\n",
      "|0832|2017-04-10 13:28:...|     stevci|EPSG:2170|AC-A2, Kamna Gori...|res/icons/stevci/...|           AC-A2|       3.7|       116|    Kamna Gorica AC|           (p)|Šentvid - Koseze|          3| Zgoščen promet|        888|AC-A2, Kamna Gori...|458647.0|14.4604|104340.0|46.08195|\n",
      "|0832|2017-04-10 13:08:...|     stevci|EPSG:2170|AC-A2, Kamna Gori...|res/icons/stevci/...|           AC-A2|       5.4|       121|    Kamna Gorica AC|           (p)|Šentvid - Koseze|          2| Povečan promet|        672|AC-A2, Kamna Gori...|458647.0|14.4604|104340.0|46.08195|\n",
      "|0832|2017-04-10 12:58:...|     stevci|EPSG:2170|AC-A2, Kamna Gori...|res/icons/stevci/...|           AC-A2|       6.4|       119|    Kamna Gorica AC|           (p)|Šentvid - Koseze|          2| Povečan promet|        540|AC-A2, Kamna Gori...|458647.0|14.4604|104340.0|46.08195|\n",
      "|0832|2017-04-10 12:39:...|     stevci|EPSG:2170|AC-A2, Kamna Gori...|res/icons/stevci/...|           AC-A2|       6.8|       122|    Kamna Gorica AC|           (p)|Šentvid - Koseze|          2| Povečan promet|        492|AC-A2, Kamna Gori...|458647.0|14.4604|104340.0|46.08195|\n",
      "|0832|2017-04-10 12:29:...|     stevci|EPSG:2170|AC-A2, Kamna Gori...|res/icons/stevci/...|           AC-A2|       4.7|       115|    Kamna Gorica AC|           (p)|Koseze - Šentvid|          2| Povečan promet|        720|AC-A2, Kamna Gori...|458647.0|14.4604|104340.0|46.08195|\n",
      "|0832|2017-04-10 12:09:...|     stevci|EPSG:2170|AC-A2, Kamna Gori...|res/icons/stevci/...|           AC-A2|       8.5|       125|    Kamna Gorica AC|           (p)|Šentvid - Koseze|          1|Normalen promet|        408|AC-A2, Kamna Gori...|458647.0|14.4604|104340.0|46.08195|\n",
      "|0832|2017-04-10 11:59:...|     stevci|EPSG:2170|AC-A2, Kamna Gori...|res/icons/stevci/...|           AC-A2|       5.2|       116|    Kamna Gorica AC|           (p)|Šentvid - Koseze|          2| Povečan promet|        672|AC-A2, Kamna Gori...|458647.0|14.4604|104340.0|46.08195|\n",
      "|0832|2017-04-10 11:10:...|     stevci|EPSG:2170|AC-A2, Kamna Gori...|res/icons/stevci/...|           AC-A2|      10.3|       124|    Kamna Gorica AC|           (p)|Šentvid - Koseze|          1|Normalen promet|        324|AC-A2, Kamna Gori...|458647.0|14.4604|104340.0|46.08195|\n",
      "|0832|2017-04-10 10:50:...|     stevci|EPSG:2170|AC-A2, Kamna Gori...|res/icons/stevci/...|           AC-A2|       6.6|       118|    Kamna Gorica AC|           (p)|Šentvid - Koseze|          2| Povečan promet|        528|AC-A2, Kamna Gori...|458647.0|14.4604|104340.0|46.08195|\n",
      "|0832|2017-04-10 10:40:...|     stevci|EPSG:2170|AC-A2, Kamna Gori...|res/icons/stevci/...|           AC-A2|       7.8|       119|    Kamna Gorica AC|           (p)|Šentvid - Koseze|          1|Normalen promet|        444|AC-A2, Kamna Gori...|458647.0|14.4604|104340.0|46.08195|\n",
      "+----+--------------------+-----------+---------+--------------------+--------------------+----------------+----------+----------+-------------------+--------------+----------------+-----------+---------------+-----------+--------------------+--------+-------+--------+--------+\n",
      "\n"
     ]
    }
   ],
   "source": [
    "counters.limit(10).show()"
   ]
  },
  {
   "cell_type": "code",
   "execution_count": 5,
   "metadata": {},
   "outputs": [
    {
     "name": "stdout",
     "output_type": "stream",
     "text": [
      "+----+--------------------+-----------+---------+--------------------+--------------------+----------------+----------+----------+-------------------+--------------+----------------+-----------+---------------+-----------+--------------------+--------+-------+--------+--------+\n",
      "|  id|            modified|contentname|    crsid|         description|                icon|stevci_cestaopis|stevci_gap|stevci_hit|stevci_lokacijaopis|stevci_pasopis| stevci_smeropis|stevci_stat|stevci_statopis|stevci_stev|               title|       x|  x_wgs|       y|   y_wgs|\n",
      "+----+--------------------+-----------+---------+--------------------+--------------------+----------------+----------+----------+-------------------+--------------+----------------+-----------+---------------+-----------+--------------------+--------+-------+--------+--------+\n",
      "|0832|2017-04-10 13:08:...|     stevci|EPSG:2170|AC-A2, Kamna Gori...|res/icons/stevci/...|           AC-A2|       5.4|       121|    Kamna Gorica AC|           (p)|Šentvid - Koseze|          2| Povečan promet|        672|AC-A2, Kamna Gori...|458647.0|14.4604|104340.0|46.08195|\n",
      "+----+--------------------+-----------+---------+--------------------+--------------------+----------------+----------+----------+-------------------+--------------+----------------+-----------+---------------+-----------+--------------------+--------+-------+--------+--------+\n",
      "\n"
     ]
    }
   ],
   "source": [
    "counters.filter(counters.stevci_hit > 120).limit(1).show()"
   ]
  },
  {
   "cell_type": "code",
   "execution_count": 6,
   "metadata": {
    "scrolled": true
   },
   "outputs": [
    {
     "name": "stdout",
     "output_type": "stream",
     "text": [
      "+----+--------------------+-----------+---------+--------------------+--------------------+----------------+----------+----------+--------------------+--------------+--------------------+-----------+---------------+-----------+--------------------+--------+--------+--------+--------+\n",
      "|  id|            modified|contentname|    crsid|         description|                icon|stevci_cestaopis|stevci_gap|stevci_hit| stevci_lokacijaopis|stevci_pasopis|     stevci_smeropis|stevci_stat|stevci_statopis|stevci_stev|               title|       x|   x_wgs|       y|   y_wgs|\n",
      "+----+--------------------+-----------+---------+--------------------+--------------------+----------------+----------+----------+--------------------+--------------+--------------------+-----------+---------------+-----------+--------------------+--------+--------+--------+--------+\n",
      "|0832|2017-04-08 23:23:...|     stevci|EPSG:2170|AC-A2, Kamna Gori...|res/icons/stevci/...|           AC-A2|     474.2|       176|     Kamna Gorica AC|           (p)|    Šentvid - Koseze|          1|Normalen promet|         12|AC-A2, Kamna Gori...|458647.0| 14.4604|104340.0|46.08195|\n",
      "|0832|2017-04-08 23:13:...|     stevci|EPSG:2170|AC-A2, Kamna Gori...|res/icons/stevci/...|           AC-A2|     136.1|       153|     Kamna Gorica AC|           (p)|    Šentvid - Koseze|          1|Normalen promet|         36|AC-A2, Kamna Gori...|458647.0| 14.4604|104340.0|46.08195|\n",
      "|0178|2017-04-08 23:23:...|     stevci|EPSG:2170|AC-A1, LJ (južna ...|res/icons/stevci/...|           AC-A1|     572.4|       176|LJ (južna obvoznica)|           (p)|Peruzzijeva - Bar...|          1|Normalen promet|         12|AC-A1, LJ (južna ...|463074.0|14.51818| 97385.0|46.01963|\n",
      "+----+--------------------+-----------+---------+--------------------+--------------------+----------------+----------+----------+--------------------+--------------+--------------------+-----------+---------------+-----------+--------------------+--------+--------+--------+--------+\n",
      "\n"
     ]
    }
   ],
   "source": [
    "hitri = counters[counters.stevci_hit > 150]\n",
    "hitri.limit(10).show()"
   ]
  },
  {
   "cell_type": "code",
   "execution_count": 7,
   "metadata": {},
   "outputs": [
    {
     "name": "stdout",
     "output_type": "stream",
     "text": [
      "+--------------------+--------------------+----------+\n",
      "|            modified|     stevci_smeropis|stevci_hit|\n",
      "+--------------------+--------------------+----------+\n",
      "|2017-04-08 23:23:...|    Šentvid - Koseze|       176|\n",
      "|2017-04-08 23:13:...|    Šentvid - Koseze|       153|\n",
      "|2017-04-08 23:23:...|Peruzzijeva - Bar...|       176|\n",
      "+--------------------+--------------------+----------+\n",
      "\n"
     ]
    }
   ],
   "source": [
    "hitri = counters[counters.stevci_hit > 150]\n",
    "hitri.select(hitri.modified, hitri.stevci_smeropis, hitri.stevci_hit).show()"
   ]
  },
  {
   "cell_type": "code",
   "execution_count": 12,
   "metadata": {},
   "outputs": [
    {
     "name": "stdout",
     "output_type": "stream",
     "text": [
      "+--------------------+-----+\n",
      "|            modified|count|\n",
      "+--------------------+-----+\n",
      "|2017-04-09 03:59:...|   11|\n",
      "|2017-04-09 10:13:...|   11|\n",
      "|2017-04-10 11:59:...|   11|\n",
      "|2017-04-09 18:35:...|   11|\n",
      "|2017-04-07 17:26:...|   11|\n",
      "|2017-04-09 15:38:...|   11|\n",
      "|2017-04-08 19:07:...|   11|\n",
      "|2017-04-08 04:36:...|   11|\n",
      "|2017-04-08 03:07:...|   11|\n",
      "|2017-04-10 10:40:...|   11|\n",
      "|2017-04-09 02:40:...|   11|\n",
      "|2017-04-08 08:52:...|   11|\n",
      "|2017-04-09 17:36:...|   11|\n",
      "|2017-04-10 07:43:...|   11|\n",
      "|2017-04-08 17:38:...|   11|\n",
      "|2017-04-09 08:54:...|   11|\n",
      "|2017-04-10 12:39:...|   11|\n",
      "|2017-04-09 11:22:...|   11|\n",
      "|2017-04-07 16:57:...|   11|\n",
      "|2017-04-09 05:08:...|   11|\n",
      "+--------------------+-----+\n",
      "only showing top 20 rows\n",
      "\n"
     ]
    }
   ],
   "source": [
    "counters.groupBy(\"modified\").count().show()"
   ]
  },
  {
   "cell_type": "code",
   "execution_count": 11,
   "metadata": {},
   "outputs": [
    {
     "data": {
      "text/plain": [
       "DataFrame[id: string, modified: timestamp, contentname: string, crsid: string, description: string, icon: string, stevci_cestaopis: string, stevci_gap: float, stevci_hit: int, stevci_lokacijaopis: string, stevci_pasopis: string, stevci_smeropis: string, stevci_stat: int, stevci_statopis: string, stevci_stev: int, title: string, x: float, x_wgs: float, y: float, y_wgs: float]"
      ]
     },
     "execution_count": 11,
     "metadata": {},
     "output_type": "execute_result"
    }
   ],
   "source": [
    "counters.cache()"
   ]
  },
  {
   "cell_type": "code",
   "execution_count": 13,
   "metadata": {},
   "outputs": [
    {
     "name": "stdout",
     "output_type": "stream",
     "text": [
      "root\n",
      " |-- id: string (nullable = true)\n",
      " |-- modified: timestamp (nullable = true)\n",
      " |-- contentname: string (nullable = true)\n",
      " |-- crsid: string (nullable = true)\n",
      " |-- description: string (nullable = true)\n",
      " |-- icon: string (nullable = true)\n",
      " |-- stevci_cestaopis: string (nullable = true)\n",
      " |-- stevci_gap: float (nullable = true)\n",
      " |-- stevci_hit: integer (nullable = true)\n",
      " |-- stevci_lokacijaopis: string (nullable = true)\n",
      " |-- stevci_pasopis: string (nullable = true)\n",
      " |-- stevci_smeropis: string (nullable = true)\n",
      " |-- stevci_stat: integer (nullable = true)\n",
      " |-- stevci_statopis: string (nullable = true)\n",
      " |-- stevci_stev: integer (nullable = true)\n",
      " |-- title: string (nullable = true)\n",
      " |-- x: float (nullable = true)\n",
      " |-- x_wgs: float (nullable = true)\n",
      " |-- y: float (nullable = true)\n",
      " |-- y_wgs: float (nullable = true)\n",
      "\n"
     ]
    }
   ],
   "source": [
    "counters.printSchema()"
   ]
  },
  {
   "cell_type": "code",
   "execution_count": 16,
   "metadata": {},
   "outputs": [],
   "source": [
    "avrage = counters.groupBy(counters.id).avg()"
   ]
  },
  {
   "cell_type": "code",
   "execution_count": 17,
   "metadata": {},
   "outputs": [
    {
     "name": "stdout",
     "output_type": "stream",
     "text": [
      "+----+------------------+------------------+------------------+------------------+--------+------------------+--------+------------------+\n",
      "|  id|   avg(stevci_gap)|   avg(stevci_hit)|  avg(stevci_stat)|  avg(stevci_stev)|  avg(x)|        avg(x_wgs)|  avg(y)|        avg(y_wgs)|\n",
      "+----+------------------+------------------+------------------+------------------+--------+------------------+--------+------------------+\n",
      "|0747|105.60944615072674| 50.68888888888889|1.4777777777777779|239.13333333333333|466464.0| 14.56153392791748|103410.0|46.074012756347656|\n",
      "|0180| 68.61500089036093|105.14444444444445|1.9722222222222223| 569.5333333333333|467049.0|14.569433212280273| 98585.0| 46.03063201904297|\n",
      "|0178|24.655000310473973|119.37222222222222|2.0166666666666666| 742.0666666666667|463074.0|14.518179893493652| 97385.0|46.019630432128906|\n",
      "|0199|115.99611326323615|105.46666666666667|1.8333333333333333|             421.8|459538.0| 14.47197151184082|103737.0|46.076576232910156|\n",
      "|0832|108.86833540995916|112.56111111111112|              1.95|470.53333333333336|458647.0|14.460399627685547|104340.0| 46.08195114135742|\n",
      "|0892|  49.0349999361568|  72.7388888888889|1.3888888888888888| 334.6666666666667|466359.0|14.560229301452637|102663.0| 46.06728744506836|\n",
      "|0179|103.76055667002996|111.00555555555556|1.7666666666666666|414.73333333333335|466359.0| 14.56022834777832|102680.0|46.067440032958984|\n",
      "|0174|155.01889156036907|103.03888888888889|2.3555555555555556|             538.6|461802.0|14.501172065734863|104571.0| 46.08421325683594|\n",
      "|0120|130.15111272997325|51.266666666666666|1.4166666666666667|184.46666666666667|467794.0|14.578598022460938|105305.0|46.091129302978516|\n",
      "|0725| 30.94333368672265| 63.58888888888889|1.7555555555555555| 474.1333333333333|459732.0|14.474382400512695|104870.0| 46.08678436279297|\n",
      "+----+------------------+------------------+------------------+------------------+--------+------------------+--------+------------------+\n",
      "\n"
     ]
    }
   ],
   "source": [
    "avrage.limit(10).show()"
   ]
  },
  {
   "cell_type": "code",
   "execution_count": null,
   "metadata": {
    "collapsed": true
   },
   "outputs": [],
   "source": [
    ""
   ]
  }
 ],
 "metadata": {
  "kernelspec": {
   "display_name": "Python 2",
   "language": "python",
   "name": "python2"
  },
  "language_info": {
   "codemirror_mode": {
    "name": "ipython",
    "version": 2.0
   },
   "file_extension": ".py",
   "mimetype": "text/x-python",
   "name": "python",
   "nbconvert_exporter": "python",
   "pygments_lexer": "ipython2",
   "version": "2.7.6"
  }
 },
 "nbformat": 4,
 "nbformat_minor": 0
}