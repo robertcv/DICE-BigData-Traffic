{
 "cells": [
  {
   "cell_type": "code",
   "execution_count": 1,
   "metadata": {
    "collapsed": true
   },
   "outputs": [],
   "source": [
    "from pyspark.sql import SQLContext\n",
    "\n",
    "sqlContext = SQLContext(sc)"
   ]
  },
  {
   "cell_type": "code",
   "execution_count": 30,
   "metadata": {
    "collapsed": true
   },
   "outputs": [],
   "source": [
    "counters = sqlContext.read.format(\"org.apache.spark.sql.cassandra\").load(table=\"counters\", keyspace=\"dice\")\n",
    "il = sqlContext.read.format(\"org.apache.spark.sql.cassandra\").load(table=\"inductive_loops\", keyspace=\"dice\")"
   ]
  },
  {
   "cell_type": "code",
   "execution_count": 31,
   "metadata": {},
   "outputs": [
    {
     "name": "stdout",
     "output_type": "stream",
     "text": [
      "root\n",
      " |-- id: string (nullable = true)\n",
      " |-- modified: timestamp (nullable = true)\n",
      " |-- contentname: string (nullable = true)\n",
      " |-- crsid: string (nullable = true)\n",
      " |-- description: string (nullable = true)\n",
      " |-- icon: string (nullable = true)\n",
      " |-- stevci_cestaopis: string (nullable = true)\n",
      " |-- stevci_gap: float (nullable = true)\n",
      " |-- stevci_hit: integer (nullable = true)\n",
      " |-- stevci_lokacijaopis: string (nullable = true)\n",
      " |-- stevci_pasopis: string (nullable = true)\n",
      " |-- stevci_smeropis: string (nullable = true)\n",
      " |-- stevci_stat: integer (nullable = true)\n",
      " |-- stevci_statopis: string (nullable = true)\n",
      " |-- stevci_stev: integer (nullable = true)\n",
      " |-- title: string (nullable = true)\n",
      " |-- x: float (nullable = true)\n",
      " |-- x_wgs: float (nullable = true)\n",
      " |-- y: float (nullable = true)\n",
      " |-- y_wgs: float (nullable = true)\n",
      "\n",
      "root\n",
      " |-- id: string (nullable = true)\n",
      " |-- updated: timestamp (nullable = true)\n",
      " |-- avgspeed: integer (nullable = true)\n",
      " |-- chainage: integer (nullable = true)\n",
      " |-- date: string (nullable = true)\n",
      " |-- devicex: float (nullable = true)\n",
      " |-- devicey: float (nullable = true)\n",
      " |-- direction: integer (nullable = true)\n",
      " |-- directiondescription: string (nullable = true)\n",
      " |-- gap: float (nullable = true)\n",
      " |-- lanedescription: string (nullable = true)\n",
      " |-- location: integer (nullable = true)\n",
      " |-- locationdescription: string (nullable = true)\n",
      " |-- numberofvehicles: integer (nullable = true)\n",
      " |-- occ: integer (nullable = true)\n",
      " |-- pkgdate: timestamp (nullable = true)\n",
      " |-- point: string (nullable = true)\n",
      " |-- region: string (nullable = true)\n",
      " |-- roaddescription: string (nullable = true)\n",
      " |-- roadsection: string (nullable = true)\n",
      " |-- stat: integer (nullable = true)\n",
      " |-- statusdescription: string (nullable = true)\n",
      " |-- time: string (nullable = true)\n",
      " |-- title: string (nullable = true)\n",
      " |-- vmax: integer (nullable = true)\n",
      "\n"
     ]
    }
   ],
   "source": [
    "counters.printSchema()\n",
    "il.printSchema()"
   ]
  },
  {
   "cell_type": "code",
   "execution_count": 32,
   "metadata": {},
   "outputs": [],
   "source": [
    "from pyspark.sql.functions import udf\n",
    "from pyspark.sql.types import StringType\n",
    "\n",
    "statTokens = udf(lambda stat: 'Heavy traffic' if stat=='Gost promet' else 'Traffic congestion', StringType())\n",
    "counters = counters.withColumn('stat', statTokens(counters.stevci_statopis))\n",
    "laneTokens = udf(lambda lane: '(d)' if lane=='(v)' else '(o)', StringType())\n",
    "counters = counters.withColumn('lane', laneTokens(counters.stevci_pasopis))\n",
    "\n",
    "il = il.fillna({'lanedescription': ' '})"
   ]
  },
  {
   "cell_type": "code",
   "execution_count": 33,
   "metadata": {},
   "outputs": [],
   "source": [
    "from pyspark.sql.functions import col\n",
    "\n",
    "counters = counters.where('stevci_stat==4 or stevci_stat=5').select('id', col('stevci_lokacijaopis').alias('location'), col('stevci_cestaopis').alias('road'), col('stevci_smeropis').alias('direction'), 'lane', 'stat', col('x_wgs').alias('longitude'), col('y_wgs').alias('latitude'), col('modified').alias('datetime'))\n",
    "il = il.where('stat==4 or stat=5').select('id', col('locationDescription').alias('location'), col('roadDescription').alias('road'), col('directionDescription').alias('direction'), col('laneDescription').alias('lane'), col('StatusDescription').alias('stat'), col('deviceY').alias('longitude'), col('deviceX').alias('latitude'), col('updated').alias('datetime'))"
   ]
  },
  {
   "cell_type": "code",
   "execution_count": 45,
   "metadata": {},
   "outputs": [
    {
     "name": "stdout",
     "output_type": "stream",
     "text": [
      "root\n",
      " |-- id: string (nullable = true)\n",
      " |-- location: string (nullable = true)\n",
      " |-- road: string (nullable = true)\n",
      " |-- direction: string (nullable = true)\n",
      " |-- lane: string (nullable = true)\n",
      " |-- stat: string (nullable = true)\n",
      " |-- longitude: float (nullable = true)\n",
      " |-- latitude: float (nullable = true)\n",
      " |-- datetime: timestamp (nullable = true)\n",
      "\n"
     ]
    }
   ],
   "source": [
    "all_traffic = counters.unionAll(il)\n",
    "all_traffic.printSchema()"
   ]
  },
  {
   "cell_type": "code",
   "execution_count": 44,
   "metadata": {},
   "outputs": [],
   "source": [
    "counters.write.format(\"org.apache.spark.sql.cassandra\").mode('append').options(table=\"heavy_traffic\", keyspace=\"dice_results\").save()"
   ]
  }
 ],
 "metadata": {
  "kernelspec": {
   "display_name": "Python 2",
   "language": "python",
   "name": "python2"
  },
  "language_info": {
   "codemirror_mode": {
    "name": "ipython",
    "version": 2.0
   },
   "file_extension": ".py",
   "mimetype": "text/x-python",
   "name": "python",
   "nbconvert_exporter": "python",
   "pygments_lexer": "ipython2",
   "version": "2.7.12"
  }
 },
 "nbformat": 4,
 "nbformat_minor": 0
}